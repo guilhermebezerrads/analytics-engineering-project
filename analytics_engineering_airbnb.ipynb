{
 "cells": [
  {
   "cell_type": "code",
   "execution_count": 1,
   "metadata": {},
   "outputs": [],
   "source": [
    "import pandas as pd\n",
    "import psycopg2\n",
    "import numpy as np\n",
    "from sqlalchemy import create_engine, text as sql_text\n",
    "from ydata_profiling import ProfileReport"
   ]
  },
  {
   "cell_type": "markdown",
   "metadata": {},
   "source": [
    "# Projeto Analytics Engineering - Inside Airbnb"
   ]
  },
  {
   "cell_type": "markdown",
   "metadata": {},
   "source": [
    "## PostgreSQL - Exportação dos dados \"raw\""
   ]
  },
  {
   "cell_type": "markdown",
   "metadata": {},
   "source": [
    "Conjunto de dados:  \"Inside Airbnb\"\n",
    "\n",
    "Passo a Passo:\n",
    "1. Vá no link https://insideairbnb.com/get-the-data\n",
    "2. Procure por \"Rio de Janeiro\"\n",
    "3. Baixe os 3 .csv: \"Listing\", \"Reviews\" e Calendar\" \n",
    "\n",
    "0bs: Caso queira pular estes passos, basta utilizar os .csvs que já estão nessa pasta: https://drive.google.com/drive/folders/1pwCpVsMu5si7BX1lzWX3tipP3fAPuoX3?usp=drive_link"
   ]
  },
  {
   "cell_type": "markdown",
   "metadata": {},
   "source": [
    "4. Crie uma pasta dentro desse repositorio como 'raw_data' e adicione os 3 .csv"
   ]
  },
  {
   "cell_type": "markdown",
   "metadata": {},
   "source": [
    "### Conexão com PostgreSQL"
   ]
  },
  {
   "cell_type": "code",
   "execution_count": 2,
   "metadata": {},
   "outputs": [],
   "source": [
    "# James:\n",
    "# dbname='airbnb_project'\n",
    "# user='postgres'\n",
    "# host='localhost'\n",
    "# password='admin'\n",
    "# port='5432'\n",
    "\n",
    "# Marcela: \n",
    "dbname='airbnb_project'\n",
    "user='postgres'\n",
    "host='localhost'\n",
    "password='0125698741'\n",
    "port='5433'"
   ]
  },
  {
   "cell_type": "code",
   "execution_count": 3,
   "metadata": {},
   "outputs": [],
   "source": [
    "conn = psycopg2.connect(dbname=dbname, user=user, host=host, password=password, port=port)\n",
    "db_params = {\n",
    "    'dbname': dbname,\n",
    "    'user': user,\n",
    "    'host': host,\n",
    "    'password': password,\n",
    "    'port': port\n",
    "}\n",
    "db_url = f'postgresql+psycopg2://{db_params[\"user\"]}:{db_params[\"password\"]}@{db_params[\"host\"]}:{db_params[\"port\"]}/{db_params[\"dbname\"]}'\n"
   ]
  },
  {
   "cell_type": "markdown",
   "metadata": {},
   "source": [
    "### Criação das bases 'raw's\n",
    "- Crie um banco de dados PostgreSQL para armazenar os dados brutos das 3 tabelas (\"Listing\", \"Reviews\" e Calendar\") "
   ]
  },
  {
   "cell_type": "code",
   "execution_count": 4,
   "metadata": {},
   "outputs": [],
   "source": [
    "engine = create_engine(db_url)\n",
    "#path = 'dbt/analytics_eng_airbnb/raw_data/'\n",
    "path = 'raw_data/'\n",
    "df_listings_raw = pd.read_csv(path + \"listings.csv\")\n",
    "df_reviews_raw = pd.read_csv(path + \"reviews.csv\")\n",
    "df_calendar_raw = pd.read_csv(path + \"calendar.csv\")"
   ]
  },
  {
   "cell_type": "code",
   "execution_count": 5,
   "metadata": {},
   "outputs": [
    {
     "data": {
      "text/plain": [
       "595"
      ]
     },
     "execution_count": 5,
     "metadata": {},
     "output_type": "execute_result"
    }
   ],
   "source": [
    "df_listings_raw.to_sql('listings_raw', engine, if_exists='replace', index=False)\n",
    "df_reviews_raw.to_sql('reviews_raw', engine, if_exists='replace', index=False)\n",
    "df_calendar_raw.to_sql('calendar_raw', engine, if_exists='replace', index=False)"
   ]
  },
  {
   "cell_type": "code",
   "execution_count": 5,
   "metadata": {},
   "outputs": [],
   "source": [
    "def load_data_from_table(table_name):\n",
    "    query = f\"SELECT * FROM {table_name};\"\n",
    "    df = pd.read_sql_query(query, conn)\n",
    "    return df"
   ]
  },
  {
   "cell_type": "code",
   "execution_count": 9,
   "metadata": {},
   "outputs": [
    {
     "data": {
      "application/vnd.jupyter.widget-view+json": {
       "model_id": "0ab9d80576ca45b09d19be67e1dfdfa4",
       "version_major": 2,
       "version_minor": 0
      },
      "text/plain": [
       "Summarize dataset:   0%|          | 0/5 [00:00<?, ?it/s]"
      ]
     },
     "metadata": {},
     "output_type": "display_data"
    },
    {
     "data": {
      "application/vnd.jupyter.widget-view+json": {
       "model_id": "76f2f73baa0c480983015be8d8010870",
       "version_major": 2,
       "version_minor": 0
      },
      "text/plain": [
       "Generate report structure:   0%|          | 0/1 [00:00<?, ?it/s]"
      ]
     },
     "metadata": {},
     "output_type": "display_data"
    },
    {
     "data": {
      "application/vnd.jupyter.widget-view+json": {
       "model_id": "4323357743a34cbf99f6548a7c367ec1",
       "version_major": 2,
       "version_minor": 0
      },
      "text/plain": [
       "Render HTML:   0%|          | 0/1 [00:00<?, ?it/s]"
      ]
     },
     "metadata": {},
     "output_type": "display_data"
    },
    {
     "data": {
      "application/vnd.jupyter.widget-view+json": {
       "model_id": "b7a70b0d65dc4cb9bcc8281c54c55bea",
       "version_major": 2,
       "version_minor": 0
      },
      "text/plain": [
       "Export report to file:   0%|          | 0/1 [00:00<?, ?it/s]"
      ]
     },
     "metadata": {},
     "output_type": "display_data"
    },
    {
     "data": {
      "application/vnd.jupyter.widget-view+json": {
       "model_id": "38af3b4056b14ce3af222d5c1b7e0d2b",
       "version_major": 2,
       "version_minor": 0
      },
      "text/plain": [
       "Summarize dataset:   0%|          | 0/5 [00:00<?, ?it/s]"
      ]
     },
     "metadata": {},
     "output_type": "display_data"
    },
    {
     "data": {
      "application/vnd.jupyter.widget-view+json": {
       "model_id": "e8aa51729e4646bbbb4632d5596f7697",
       "version_major": 2,
       "version_minor": 0
      },
      "text/plain": [
       "Generate report structure:   0%|          | 0/1 [00:00<?, ?it/s]"
      ]
     },
     "metadata": {},
     "output_type": "display_data"
    },
    {
     "data": {
      "application/vnd.jupyter.widget-view+json": {
       "model_id": "d54cceee8f434778ab3c05bc8ff0c258",
       "version_major": 2,
       "version_minor": 0
      },
      "text/plain": [
       "Render HTML:   0%|          | 0/1 [00:00<?, ?it/s]"
      ]
     },
     "metadata": {},
     "output_type": "display_data"
    },
    {
     "data": {
      "application/vnd.jupyter.widget-view+json": {
       "model_id": "8cfed767f0094a5ab8f71ad490f19c2a",
       "version_major": 2,
       "version_minor": 0
      },
      "text/plain": [
       "Export report to file:   0%|          | 0/1 [00:00<?, ?it/s]"
      ]
     },
     "metadata": {},
     "output_type": "display_data"
    },
    {
     "data": {
      "application/vnd.jupyter.widget-view+json": {
       "model_id": "40bbdbca47f64877ba48b05d62ae6abe",
       "version_major": 2,
       "version_minor": 0
      },
      "text/plain": [
       "Summarize dataset:   0%|          | 0/5 [00:00<?, ?it/s]"
      ]
     },
     "metadata": {},
     "output_type": "display_data"
    },
    {
     "data": {
      "application/vnd.jupyter.widget-view+json": {
       "model_id": "3116b1179fba4ab9ba6a8f17e6337af1",
       "version_major": 2,
       "version_minor": 0
      },
      "text/plain": [
       "Generate report structure:   0%|          | 0/1 [00:00<?, ?it/s]"
      ]
     },
     "metadata": {},
     "output_type": "display_data"
    },
    {
     "data": {
      "application/vnd.jupyter.widget-view+json": {
       "model_id": "23692e73153f486c80865eb83e2bd8f8",
       "version_major": 2,
       "version_minor": 0
      },
      "text/plain": [
       "Render HTML:   0%|          | 0/1 [00:00<?, ?it/s]"
      ]
     },
     "metadata": {},
     "output_type": "display_data"
    },
    {
     "data": {
      "application/vnd.jupyter.widget-view+json": {
       "model_id": "77ce4a4bd4b543469e41327cef64d23d",
       "version_major": 2,
       "version_minor": 0
      },
      "text/plain": [
       "Export report to file:   0%|          | 0/1 [00:00<?, ?it/s]"
      ]
     },
     "metadata": {},
     "output_type": "display_data"
    }
   ],
   "source": [
    "profile = ProfileReport(df_listings_raw, title=\"Listings Report\")\n",
    "profile.to_file(\"resultados_listings.html\")\n",
    "profile = ProfileReport(df_reviews_raw, title=\"Reviews Report\", minimal=True)\n",
    "profile.to_file(\"resultados_reviews.html\")\n",
    "profile = ProfileReport(df_calendar_raw, title=\"Calendar Report\")\n",
    "profile.to_file(\"resultados_calendar.html\")"
   ]
  },
  {
   "cell_type": "markdown",
   "metadata": {},
   "source": [
    "## DBT - Inicialização"
   ]
  },
  {
   "cell_type": "markdown",
   "metadata": {},
   "source": [
    "Passo a Passo:\n",
    "1) Instale o DBT\n",
    "- python -m pip install dbt-postgres\n",
    "- pip install dbt\n"
   ]
  },
  {
   "cell_type": "markdown",
   "metadata": {},
   "source": [
    "2) Vá até sua pasta \"dbt\" e rode o comando:\n",
    "3) dbt init analytics_eng_airbnb \n",
    "\n",
    "OBS: você pode pular os passos 2 e 3 utilizando a pasta \"dbt\" dentro do arquivo do Github\n"
   ]
  },
  {
   "cell_type": "markdown",
   "metadata": {},
   "source": [
    "Atualize seus dados no 'profiles.yml'"
   ]
  },
  {
   "cell_type": "markdown",
   "metadata": {},
   "source": [
    "# Camadas"
   ]
  },
  {
   "cell_type": "markdown",
   "metadata": {},
   "source": [
    "## Bronze"
   ]
  },
  {
   "cell_type": "markdown",
   "metadata": {},
   "source": [
    "Verifique os arquivos criados na pasta dbt/analytics_eng_airbnb/models/bronze\n",
    "- source.yml com os sources de \"listing_raw\", \"reviews_raw\", \"calendar_raw\""
   ]
  },
  {
   "cell_type": "markdown",
   "metadata": {},
   "source": [
    "- models.yml com informações e verificações sobre as novas tabelas que serão criadas: \"listing_bronze\", \"reviews_bronze\", \"calendar_bronze\". Nesse arquivo, executamos:\n",
    "    - Verificamos se ID em \"listings\" é unique e not null\n",
    "    - Adicionamos referencias de \"foreign key\" para listings_id"
   ]
  },
  {
   "cell_type": "markdown",
   "metadata": {},
   "source": [
    "- arquivos .sql para cada uma das 3 tabelas"
   ]
  },
  {
   "cell_type": "markdown",
   "metadata": {},
   "source": [
    "Para executar as regras criadas e importar as tabelas _bronze para o seu PostgreSQL, entre na pasta dbt/analytics_eng_airbnb e rode o comando:\n",
    "\n",
    "- dbt run --models bronze"
   ]
  },
  {
   "cell_type": "markdown",
   "metadata": {},
   "source": [
    "## Silver"
   ]
  },
  {
   "cell_type": "markdown",
   "metadata": {},
   "source": [
    "Verifique os arquivos criados na pasta dbt/analytics_eng_airbnb/models/silver\n",
    "- source.yml com os sources de \"listing_bronze\", \"reviews_bronze\", \"calendar_bronze\""
   ]
  },
  {
   "cell_type": "markdown",
   "metadata": {},
   "source": [
    "- models.yml com informações e verificações sobre as novas tabelas que serão criadas: \"listing_silver\", \"reviews_silver\", \"calendar_silver\".\n",
    "    - Aqui alem da limpeza mais bruta dos dados tambem começamos a selecionar quais colunas fazia sentido ou nao manter em nossas tabelas com relação aonde queriamos chega na camada gold, assim como aplicar filtros e condiçoes, tudo isso com o dbt. ex: Na tabela listing, na coluna reviews temos uma condição para que numero de reviws fosse maior que 0."
   ]
  },
  {
   "cell_type": "markdown",
   "metadata": {},
   "source": [
    "- arquivos .sql para cada uma das 3 tabelas. Nesses arquivos, executamos:\n",
    "    - calendar_silver.sql\n",
    "    - listings_silver.sql\n",
    "    - reviews_silver.sql"
   ]
  },
  {
   "cell_type": "markdown",
   "metadata": {},
   "source": [
    "Para executar as regras criadas e importar as tabelas _silver para o seu PostgreSQL, entre na pasta dbt/analytics_eng_airbnb e rode o comando:\n",
    "\n",
    "- dbt run --models silver"
   ]
  },
  {
   "cell_type": "markdown",
   "metadata": {},
   "source": [
    "## Gold"
   ]
  },
  {
   "cell_type": "markdown",
   "metadata": {},
   "source": [
    "Verifique os arquivos criados na pasta dbt/analytics_eng_airbnb/models/gold\n",
    "- source.yml com os sources de \"listing_silver\", \"reviews_silver\", \"calendar_silver\""
   ]
  },
  {
   "cell_type": "markdown",
   "metadata": {},
   "source": [
    "- models.yml com informações e verificações sobre as novas tabelas que serão criadas tabelas para cada uma das visualizações imaginadas. Até o momento temos 5 tabelas:\n",
    "  - most_available_by_weekday_gold: demonstra a disponibilidade de oferta de listagens para cada dia da semana. Esse indicador pode ser usado para prever os dias mais e menos movimentados para os hospedes e anfitriões.\n",
    "  - price_avg_by_neighborhood_gold: explicita a média de preços em cada bairro da cidade do Rio de Janeiro. Esse ranking pode ajudar os anfitriões a escolherem os preços a serem praticados nos seus imoveis e a plataforma AirBnb a prever seus ganhos.\n",
    "  - price_avg_by_type: similar a tabela anterior, porém agrupando os resultados por tipo de imovel (casa inteira, quarto, loft, etc). Suas aplicações práticas também são semelhantes as da tabela anterior.\n",
    "  - comments_price_correlation_gold: A tabela comments_price_correlation_gold permite analisar se existe uma correlação entre o número de comentários que uma listagem recebe e seu preço. Por exemplo, listagens com preços mais altos podem receber mais comentários porque atraem mais hóspedes ou porque oferecem uma experiência de maior qualidade que leva a mais comentários. Alternativamente, listagens com preços mais baixos podem receber mais comentários porque são mais acessíveis para um maior número de hóspedes.\n",
    "  - host_listing_analysis_gold: A tabela host_listing_analysis_gold permite analisar as características dos anfitriões e como elas se relacionam com o preço das hospedagens no airbnb. Por exemplo, você pode querer saber se anfitriões com mais hospedagens no airbnb tendem a ter preços mais altos ou mais baixos. Alternativamente, você pode querer saber se anfitriões com preços mais altos têm mais ou menos hospedagens no airbnb.\n"
   ]
  },
  {
   "cell_type": "markdown",
   "metadata": {},
   "source": [
    "- arquivos .sql para cada uma das tabelas. Nesses arquivos, executamos:\n",
    "    - host_listing_analysis_gold\n",
    "    - comments_price_correlation_gold\n",
    "    - price_avg_by_type\n",
    "    - most_available_by_weekday_gold\n",
    "    - price_avg_by_neighborhood_gold"
   ]
  },
  {
   "cell_type": "markdown",
   "metadata": {},
   "source": [
    "Para executar as regras criadas e importar as tabelas _gold para o seu PostgreSQL, entre na pasta dbt/analytics_eng_airbnb e rode o comando:\n",
    "\n",
    "- dbt run --models gold\n"
   ]
  },
  {
   "cell_type": "markdown",
   "metadata": {},
   "source": [
    "Nessa camada optamos por não executar testagens, com exceção de teste de redundância simples como verificar se campos de id são únicos e campos requeridos não são nulos."
   ]
  },
  {
   "cell_type": "markdown",
   "metadata": {},
   "source": [
    "## Todas as tabelas em execução no Postgres\n",
    "\n",
    "![tabelas Postgres](./tabelasPGAdmin.jpeg)"
   ]
  }
 ],
 "metadata": {
  "kernelspec": {
   "display_name": "Python 3",
   "language": "python",
   "name": "python3"
  },
  "language_info": {
   "codemirror_mode": {
    "name": "ipython",
    "version": 3
   },
   "file_extension": ".py",
   "mimetype": "text/x-python",
   "name": "python",
   "nbconvert_exporter": "python",
   "pygments_lexer": "ipython3",
   "version": "3.11.5"
  }
 },
 "nbformat": 4,
 "nbformat_minor": 2
}
