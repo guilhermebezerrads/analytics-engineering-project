{
 "cells": [
  {
   "cell_type": "code",
   "execution_count": 3,
   "metadata": {},
   "outputs": [],
   "source": [
    "import pandas as pd\n",
    "import psycopg2\n",
    "import numpy as np\n",
    "import re\n",
    "from sqlalchemy import create_engine, text as sql_text\n",
    "import datetime\n",
    "from ydata_profiling import ProfileReport"
   ]
  },
  {
   "cell_type": "markdown",
   "metadata": {},
   "source": [
    "# Projeto Analytics Engineering - Inside Airbnb"
   ]
  },
  {
   "cell_type": "markdown",
   "metadata": {},
   "source": [
    "## PostgreSQL - Exportação dos dados \"raw\""
   ]
  },
  {
   "cell_type": "markdown",
   "metadata": {},
   "source": [
    "Conjunto de dados:  \"Inside Airbnb\"\n",
    "\n",
    "Passo a Passo:\n",
    "1. Vá no link https://insideairbnb.com/get-the-data\n",
    "2. Procure por \"Rio de Janeiro\"\n",
    "3. Baixe os 3 .csv: \"Listing\", \"Reviews\" e Calendar\" \n",
    "\n",
    "0bs: Caso queira pular estes passos, basta utilizar os .csvs que já estão nessa pasta: https://drive.google.com/drive/folders/1pwCpVsMu5si7BX1lzWX3tipP3fAPuoX3?usp=drive_link"
   ]
  },
  {
   "cell_type": "markdown",
   "metadata": {},
   "source": [
    "Criação do banco de dados PostgreSQL com as 3 tabelas (\"Listing\", \"Reviews\" e Calendar\"):\n",
    "1. Rode o arquivo 'create_tables.sql'\n",
    "2. Rode o arquivo 'copy.sql' alterando o caminho para seus .csvs localmente\n",
    "3. Crie sua conexão abaixo (não exclua as demais)"
   ]
  },
  {
   "cell_type": "code",
   "execution_count": 4,
   "metadata": {},
   "outputs": [],
   "source": [
    "# James:\n",
    "#conn = psycopg2.connect(dbname='airbnb_project', user='postgres', host='localhost', password='123456', port=\"5432\")\n",
    "\n",
    "# Marcela: \n",
    "conn = psycopg2.connect(dbname='myDBProject', user='postgres', host='localhost', password='0125698741', port=\"5433\")\n",
    "db_params = {\n",
    "    'dbname': 'myDBProject',\n",
    "    'user': 'postgres',\n",
    "    'host': 'localhost',\n",
    "    'password': '0125698741',\n",
    "    'port': '5433'\n",
    "}\n",
    "db_url = f'postgresql+psycopg2://{db_params[\"user\"]}:{db_params[\"password\"]}@{db_params[\"host\"]}:{db_params[\"port\"]}/{db_params[\"dbname\"]}'\n"
   ]
  },
  {
   "cell_type": "code",
   "execution_count": 14,
   "metadata": {},
   "outputs": [],
   "source": [
    "engine = create_engine(db_url)\n",
    "df_listings_raw = pd.read_csv(\"raw_data/listings.csv\")\n",
    "df_reviews_raw = pd.read_csv(\"raw_data/reviews.csv\")\n",
    "df_calendar_raw = pd.read_csv(\"raw_data/calendar.csv\")"
   ]
  },
  {
   "cell_type": "code",
   "execution_count": 15,
   "metadata": {},
   "outputs": [
    {
     "data": {
      "text/plain": [
       "595"
      ]
     },
     "execution_count": 15,
     "metadata": {},
     "output_type": "execute_result"
    }
   ],
   "source": [
    "df_listings_raw.to_sql('listings_raw', engine, if_exists='replace', index=False)\n",
    "df_reviews_raw.to_sql('reviews_raw', engine, if_exists='replace', index=False)\n",
    "df_calendar_raw.to_sql('calendar_raw', engine, if_exists='replace', index=False)"
   ]
  },
  {
   "cell_type": "code",
   "execution_count": 13,
   "metadata": {},
   "outputs": [
    {
     "name": "stderr",
     "output_type": "stream",
     "text": [
      "/var/folders/8k/smxjq0q17kz2976yb3t29z6r0000gn/T/ipykernel_51914/846556828.py:3: UserWarning: pandas only supports SQLAlchemy connectable (engine/connection) or database string URI or sqlite3 DBAPI2 connection. Other DBAPI2 objects are not tested. Please consider using SQLAlchemy.\n",
      "  df = pd.read_sql_query(query, conn)\n"
     ]
    },
    {
     "data": {
      "text/html": [
       "<div>\n",
       "<style scoped>\n",
       "    .dataframe tbody tr th:only-of-type {\n",
       "        vertical-align: middle;\n",
       "    }\n",
       "\n",
       "    .dataframe tbody tr th {\n",
       "        vertical-align: top;\n",
       "    }\n",
       "\n",
       "    .dataframe thead th {\n",
       "        text-align: right;\n",
       "    }\n",
       "</style>\n",
       "<table border=\"1\" class=\"dataframe\">\n",
       "  <thead>\n",
       "    <tr style=\"text-align: right;\">\n",
       "      <th></th>\n",
       "      <th>id</th>\n",
       "      <th>listing_url</th>\n",
       "      <th>scrape_id</th>\n",
       "      <th>last_scraped</th>\n",
       "      <th>source</th>\n",
       "      <th>name</th>\n",
       "      <th>description</th>\n",
       "      <th>neighborhood_overview</th>\n",
       "      <th>picture_url</th>\n",
       "      <th>host_id</th>\n",
       "      <th>...</th>\n",
       "      <th>review_scores_communication</th>\n",
       "      <th>review_scores_location</th>\n",
       "      <th>review_scores_value</th>\n",
       "      <th>license</th>\n",
       "      <th>instant_bookable</th>\n",
       "      <th>calculated_host_listings_count</th>\n",
       "      <th>calculated_host_listings_count_entire_homes</th>\n",
       "      <th>calculated_host_listings_count_private_rooms</th>\n",
       "      <th>calculated_host_listings_count_shared_rooms</th>\n",
       "      <th>reviews_per_month</th>\n",
       "    </tr>\n",
       "  </thead>\n",
       "  <tbody>\n",
       "    <tr>\n",
       "      <th>0</th>\n",
       "      <td>17878</td>\n",
       "      <td>https://www.airbnb.com/rooms/17878</td>\n",
       "      <td>20231226034138</td>\n",
       "      <td>2023-12-27</td>\n",
       "      <td>city scrape</td>\n",
       "      <td>Condo in Rio de Janeiro · ★4.70 · 2 bedrooms ·...</td>\n",
       "      <td>None</td>\n",
       "      <td>This is the one of the bests spots in Rio. Bec...</td>\n",
       "      <td>https://a0.muscache.com/pictures/65320518/3069...</td>\n",
       "      <td>68997</td>\n",
       "      <td>...</td>\n",
       "      <td>4.91</td>\n",
       "      <td>4.77</td>\n",
       "      <td>4.67</td>\n",
       "      <td>None</td>\n",
       "      <td>f</td>\n",
       "      <td>1</td>\n",
       "      <td>1</td>\n",
       "      <td>0</td>\n",
       "      <td>0</td>\n",
       "      <td>1.90</td>\n",
       "    </tr>\n",
       "    <tr>\n",
       "      <th>1</th>\n",
       "      <td>25026</td>\n",
       "      <td>https://www.airbnb.com/rooms/25026</td>\n",
       "      <td>20231226034138</td>\n",
       "      <td>2023-12-27</td>\n",
       "      <td>city scrape</td>\n",
       "      <td>Rental unit in Rio de Janeiro · ★4.72 · 1 bedr...</td>\n",
       "      <td>None</td>\n",
       "      <td>Copacabana is a lively neighborhood and the ap...</td>\n",
       "      <td>https://a0.muscache.com/pictures/a745aa21-b8dd...</td>\n",
       "      <td>102840</td>\n",
       "      <td>...</td>\n",
       "      <td>4.92</td>\n",
       "      <td>4.84</td>\n",
       "      <td>4.60</td>\n",
       "      <td>None</td>\n",
       "      <td>f</td>\n",
       "      <td>1</td>\n",
       "      <td>1</td>\n",
       "      <td>0</td>\n",
       "      <td>0</td>\n",
       "      <td>1.67</td>\n",
       "    </tr>\n",
       "    <tr>\n",
       "      <th>2</th>\n",
       "      <td>35764</td>\n",
       "      <td>https://www.airbnb.com/rooms/35764</td>\n",
       "      <td>20231226034138</td>\n",
       "      <td>2023-12-27</td>\n",
       "      <td>city scrape</td>\n",
       "      <td>Loft in Rio de Janeiro · ★4.90 · 1 bedroom · 1...</td>\n",
       "      <td>None</td>\n",
       "      <td>Our guests will experience living with a local...</td>\n",
       "      <td>https://a0.muscache.com/pictures/23782972/1d3e...</td>\n",
       "      <td>153691</td>\n",
       "      <td>...</td>\n",
       "      <td>4.95</td>\n",
       "      <td>4.94</td>\n",
       "      <td>4.89</td>\n",
       "      <td>None</td>\n",
       "      <td>f</td>\n",
       "      <td>1</td>\n",
       "      <td>1</td>\n",
       "      <td>0</td>\n",
       "      <td>0</td>\n",
       "      <td>2.82</td>\n",
       "    </tr>\n",
       "    <tr>\n",
       "      <th>3</th>\n",
       "      <td>41198</td>\n",
       "      <td>https://www.airbnb.com/rooms/41198</td>\n",
       "      <td>20231226034138</td>\n",
       "      <td>2023-12-27</td>\n",
       "      <td>city scrape</td>\n",
       "      <td>Rental unit in Rio de Janeiro · ★4.21 · 2 bedr...</td>\n",
       "      <td>None</td>\n",
       "      <td>None</td>\n",
       "      <td>https://a0.muscache.com/pictures/3576716/2d6a9...</td>\n",
       "      <td>178975</td>\n",
       "      <td>...</td>\n",
       "      <td>4.56</td>\n",
       "      <td>4.44</td>\n",
       "      <td>4.38</td>\n",
       "      <td>None</td>\n",
       "      <td>f</td>\n",
       "      <td>2</td>\n",
       "      <td>2</td>\n",
       "      <td>0</td>\n",
       "      <td>0</td>\n",
       "      <td>0.13</td>\n",
       "    </tr>\n",
       "    <tr>\n",
       "      <th>4</th>\n",
       "      <td>326205</td>\n",
       "      <td>https://www.airbnb.com/rooms/326205</td>\n",
       "      <td>20231226034138</td>\n",
       "      <td>2023-12-27</td>\n",
       "      <td>city scrape</td>\n",
       "      <td>Condo in Rio de Janeiro · ★4.57 · 1 bedroom · ...</td>\n",
       "      <td>None</td>\n",
       "      <td>None</td>\n",
       "      <td>https://a0.muscache.com/pictures/c550151d-910c...</td>\n",
       "      <td>1603206</td>\n",
       "      <td>...</td>\n",
       "      <td>4.77</td>\n",
       "      <td>4.83</td>\n",
       "      <td>4.59</td>\n",
       "      <td>None</td>\n",
       "      <td>f</td>\n",
       "      <td>5</td>\n",
       "      <td>5</td>\n",
       "      <td>0</td>\n",
       "      <td>0</td>\n",
       "      <td>1.07</td>\n",
       "    </tr>\n",
       "  </tbody>\n",
       "</table>\n",
       "<p>5 rows × 75 columns</p>\n",
       "</div>"
      ],
      "text/plain": [
       "       id                          listing_url       scrape_id last_scraped  \\\n",
       "0   17878   https://www.airbnb.com/rooms/17878  20231226034138   2023-12-27   \n",
       "1   25026   https://www.airbnb.com/rooms/25026  20231226034138   2023-12-27   \n",
       "2   35764   https://www.airbnb.com/rooms/35764  20231226034138   2023-12-27   \n",
       "3   41198   https://www.airbnb.com/rooms/41198  20231226034138   2023-12-27   \n",
       "4  326205  https://www.airbnb.com/rooms/326205  20231226034138   2023-12-27   \n",
       "\n",
       "        source                                               name description  \\\n",
       "0  city scrape  Condo in Rio de Janeiro · ★4.70 · 2 bedrooms ·...        None   \n",
       "1  city scrape  Rental unit in Rio de Janeiro · ★4.72 · 1 bedr...        None   \n",
       "2  city scrape  Loft in Rio de Janeiro · ★4.90 · 1 bedroom · 1...        None   \n",
       "3  city scrape  Rental unit in Rio de Janeiro · ★4.21 · 2 bedr...        None   \n",
       "4  city scrape  Condo in Rio de Janeiro · ★4.57 · 1 bedroom · ...        None   \n",
       "\n",
       "                               neighborhood_overview  \\\n",
       "0  This is the one of the bests spots in Rio. Bec...   \n",
       "1  Copacabana is a lively neighborhood and the ap...   \n",
       "2  Our guests will experience living with a local...   \n",
       "3                                               None   \n",
       "4                                               None   \n",
       "\n",
       "                                         picture_url  host_id  ...  \\\n",
       "0  https://a0.muscache.com/pictures/65320518/3069...    68997  ...   \n",
       "1  https://a0.muscache.com/pictures/a745aa21-b8dd...   102840  ...   \n",
       "2  https://a0.muscache.com/pictures/23782972/1d3e...   153691  ...   \n",
       "3  https://a0.muscache.com/pictures/3576716/2d6a9...   178975  ...   \n",
       "4  https://a0.muscache.com/pictures/c550151d-910c...  1603206  ...   \n",
       "\n",
       "  review_scores_communication review_scores_location review_scores_value  \\\n",
       "0                        4.91                   4.77                4.67   \n",
       "1                        4.92                   4.84                4.60   \n",
       "2                        4.95                   4.94                4.89   \n",
       "3                        4.56                   4.44                4.38   \n",
       "4                        4.77                   4.83                4.59   \n",
       "\n",
       "  license instant_bookable calculated_host_listings_count  \\\n",
       "0    None                f                              1   \n",
       "1    None                f                              1   \n",
       "2    None                f                              1   \n",
       "3    None                f                              2   \n",
       "4    None                f                              5   \n",
       "\n",
       "  calculated_host_listings_count_entire_homes  \\\n",
       "0                                           1   \n",
       "1                                           1   \n",
       "2                                           1   \n",
       "3                                           2   \n",
       "4                                           5   \n",
       "\n",
       "  calculated_host_listings_count_private_rooms  \\\n",
       "0                                            0   \n",
       "1                                            0   \n",
       "2                                            0   \n",
       "3                                            0   \n",
       "4                                            0   \n",
       "\n",
       "  calculated_host_listings_count_shared_rooms reviews_per_month  \n",
       "0                                           0              1.90  \n",
       "1                                           0              1.67  \n",
       "2                                           0              2.82  \n",
       "3                                           0              0.13  \n",
       "4                                           0              1.07  \n",
       "\n",
       "[5 rows x 75 columns]"
      ]
     },
     "execution_count": 13,
     "metadata": {},
     "output_type": "execute_result"
    }
   ],
   "source": [
    "def load_data_from_table(table_name):\n",
    "    query = f\"SELECT * FROM {table_name};\"\n",
    "    df = pd.read_sql_query(query, conn)\n",
    "    return df\n",
    "df = load_data_from_table('listings_raw')\n",
    "df.head(5)"
   ]
  },
  {
   "cell_type": "markdown",
   "metadata": {},
   "source": [
    "## DBT - Inicialização"
   ]
  },
  {
   "cell_type": "markdown",
   "metadata": {},
   "source": [
    "Passo a Passo:\n",
    "1) Instale o DBT\n",
    "- python -m pip install dbt-postgres\n",
    "- pip install dbt\n"
   ]
  },
  {
   "cell_type": "markdown",
   "metadata": {},
   "source": [
    "2) Vá até sua pasta \"dbt\" e rode o comando:\n",
    "3) dbt init analytics_eng_airbnb \n",
    "\n",
    "OBS: você pode pular os passos 2 e 3 utilizando a pasta \"dbt\" dentro do arquivo do Github\n"
   ]
  },
  {
   "cell_type": "markdown",
   "metadata": {},
   "source": [
    "# Camadas"
   ]
  },
  {
   "cell_type": "markdown",
   "metadata": {},
   "source": [
    "## Bronze"
   ]
  },
  {
   "cell_type": "markdown",
   "metadata": {},
   "source": [
    "Verifique os arquivos criados na pasta dbt/analytics_eng_airbnb/models/bronze\n",
    "Nessa etapa:\n",
    "- Criamos as tabelas _bronze para as três  \n",
    "Verificamos se ID em \"listings\" é unique e not null\n",
    "- "
   ]
  },
  {
   "cell_type": "markdown",
   "metadata": {},
   "source": [
    "Entre na pasta dbt/analytics_eng_airbnb e rode o comando:\n",
    "\n",
    "- dbt run --models bronze"
   ]
  },
  {
   "cell_type": "markdown",
   "metadata": {},
   "source": [
    "## Silver"
   ]
  },
  {
   "cell_type": "markdown",
   "metadata": {},
   "source": [
    "### Data Quality"
   ]
  },
  {
   "cell_type": "markdown",
   "metadata": {},
   "source": [
    "- Defina métricas de qualidade de dados, como integridade, precisão e consistência para os dados da camada \"bronze\".\n",
    "- Implemente verificações para garantir que os dados da camada \"silver\" estejam em conformidade com essas métricas.\n",
    "- Estabeleça um sistema de monitoramento contínuo da qualidade dos dados da camada \"silver\".\n"
   ]
  },
  {
   "cell_type": "markdown",
   "metadata": {},
   "source": [
    "Listing (Listagem): Este conjunto de dados contém informações detalhadas sobre as propriedades listadas no Airbnb. Cada registro representa uma listagem individual e inclui informações como o tipo de propriedade, preço, localização, número de quartos, comodidades oferecidas e muito mais."
   ]
  },
  {
   "cell_type": "markdown",
   "metadata": {},
   "source": [
    "Adicionar colunas mantidas e descricao."
   ]
  },
  {
   "cell_type": "markdown",
   "metadata": {},
   "source": [
    "Reviews (Avaliações): O conjunto de dados de avaliações contém informações sobre as avaliações feitas por hóspedes que ficaram nas propriedades listadas. Ele inclui dados como a data da avaliação, o identificador da propriedade, os comentários escritos pelos hóspedes, e outras informações.\n"
   ]
  },
  {
   "cell_type": "markdown",
   "metadata": {},
   "source": [
    "Adicionar colunas mantidas e descricao."
   ]
  },
  {
   "cell_type": "markdown",
   "metadata": {},
   "source": [
    "Calendar (Calendário): Este conjunto de dados contém informações sobre a disponibilidade das propriedades ao longo do tempo. Ele lista as datas em que as propriedades estão disponíveis para reserva, bem como os preços para cada data.\n"
   ]
  },
  {
   "cell_type": "markdown",
   "metadata": {},
   "source": [
    "Adicionar colunas mantidas e descricao."
   ]
  },
  {
   "cell_type": "markdown",
   "metadata": {},
   "source": [
    "## Testes de qualidade"
   ]
  },
  {
   "cell_type": "markdown",
   "metadata": {},
   "source": [
    "- Utilize a biblioteca Great Expectations para criar testes de qualidade automatizados que verifiquem as expectativas definidas para os dados da camada \"silver\".\n",
    "- Desenvolva testes que assegurem que os dados da camada \"silver\" atendam às regras de negócios e aos requisitos de qualidade."
   ]
  },
  {
   "cell_type": "markdown",
   "metadata": {},
   "source": [
    "## Armazenamento de Dados em PostgreSQL"
   ]
  },
  {
   "cell_type": "markdown",
   "metadata": {},
   "source": [
    "- Armazene os dados da camada \"silver\" no mesmo banco de dados PostgreSQL.\n",
    "- Estabeleça conexões entre o dbt e o PostgreSQL para carregar os dados transformados da camada \"silver\" no banco."
   ]
  },
  {
   "cell_type": "code",
   "execution_count": 40,
   "metadata": {},
   "outputs": [],
   "source": [
    "engine = create_engine(db_url)"
   ]
  },
  {
   "cell_type": "code",
   "execution_count": null,
   "metadata": {},
   "outputs": [],
   "source": [
    "df_listings_silver.to_sql('listings_silver', engine, if_exists='replace', index=False)"
   ]
  },
  {
   "cell_type": "code",
   "execution_count": null,
   "metadata": {},
   "outputs": [],
   "source": [
    "query= \"\"\"\n",
    "select * \n",
    "from public.listings_gold\n",
    "\"\"\"\n",
    "df = pd.read_sql(sql=sql_text(query), con=engine.connect())\n",
    "df"
   ]
  },
  {
   "cell_type": "markdown",
   "metadata": {},
   "source": [
    "## Validação de Expectativas com Great Expectations"
   ]
  },
  {
   "cell_type": "markdown",
   "metadata": {},
   "source": [
    "- Implemente validações adicionais usando Great Expectations nas camadas de dados da camada \"silver\".\n",
    "- Monitore a qualidade dos dados da camada \"silver\" após cada transformação e ajuste os testes de acordo."
   ]
  },
  {
   "cell_type": "markdown",
   "metadata": {},
   "source": [
    "## Gold"
   ]
  }
 ],
 "metadata": {
  "kernelspec": {
   "display_name": "Python 3",
   "language": "python",
   "name": "python3"
  },
  "language_info": {
   "codemirror_mode": {
    "name": "ipython",
    "version": 3
   },
   "file_extension": ".py",
   "mimetype": "text/x-python",
   "name": "python",
   "nbconvert_exporter": "python",
   "pygments_lexer": "ipython3",
   "version": "3.11.5"
  }
 },
 "nbformat": 4,
 "nbformat_minor": 2
}
