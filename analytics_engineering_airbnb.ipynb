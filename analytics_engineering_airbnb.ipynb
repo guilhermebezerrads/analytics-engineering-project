{
 "cells": [
  {
   "cell_type": "code",
   "execution_count": 3,
   "metadata": {},
   "outputs": [],
   "source": [
    "import pandas as pd\n",
    "import psycopg2\n",
    "import numpy as np"
   ]
  },
  {
   "cell_type": "markdown",
   "metadata": {},
   "source": [
    "# Bronze"
   ]
  },
  {
   "cell_type": "markdown",
   "metadata": {},
   "source": [
    "Conjunto de dados:  \"Inside Airbnb\"\n",
    "\n",
    "Passo a Passo:\n",
    "1. Vá no link https://insideairbnb.com/get-the-data\n",
    "2. Procure por \"Rio de Janeiro\"\n",
    "3. Baixe os 3 .csv: \"Listing\", \"Reviews\" e Calendar\" \n",
    "\n",
    "0bs: Caso queira pular estes passos, basta utilizar os .csvs que já estão nessa pasta: https://drive.google.com/drive/folders/1pwCpVsMu5si7BX1lzWX3tipP3fAPuoX3?usp=drive_link"
   ]
  },
  {
   "cell_type": "markdown",
   "metadata": {},
   "source": [
    "Criação do banco de dados PostgreSQL com as 3 tabelas (\"Listing\", \"Reviews\" e Calendar\"):\n",
    "1. Rode o arquivo 'create_tables.sql'\n",
    "2. Rode o arquivo 'copy.sql' alterando o caminho para seus .csvs localmente\n",
    "3. Crie sua conexão abaixo (não exclua as demais)"
   ]
  },
  {
   "cell_type": "code",
   "execution_count": 13,
   "metadata": {},
   "outputs": [],
   "source": [
    "# James:\n",
    "# conn = psycopg2.connect(dbname='airbnb_project', user='postgres', host='localhost', password='123456', port=\"5432\")\n",
    "\n",
    "# Marcela: \n",
    "conn = psycopg2.connect(dbname='myDBProject', user='postgres', host='localhost', password='0125698741', port=\"5433\")"
   ]
  },
  {
   "cell_type": "markdown",
   "metadata": {},
   "source": [
    "Carregue os dados das tabelas 'listings' , 'reviews' , 'calendar':"
   ]
  },
  {
   "cell_type": "code",
   "execution_count": 17,
   "metadata": {},
   "outputs": [
    {
     "name": "stderr",
     "output_type": "stream",
     "text": [
      "/var/folders/8k/smxjq0q17kz2976yb3t29z6r0000gn/T/ipykernel_63787/2710205896.py:3: UserWarning: pandas only supports SQLAlchemy connectable (engine/connection) or database string URI or sqlite3 DBAPI2 connection. Other DBAPI2 objects are not tested. Please consider using SQLAlchemy.\n",
      "  df = pd.read_sql_query(query, conn)\n"
     ]
    }
   ],
   "source": [
    "def load_data_from_table(table_name):\n",
    "    query = f\"SELECT * FROM {table_name};\"\n",
    "    df = pd.read_sql_query(query, conn)\n",
    "    return df\n",
    "\n",
    "df_listings = load_data_from_table('listings')\n",
    "df_reviews = load_data_from_table('reviews')\n",
    "df_calendar = load_data_from_table('calendar')"
   ]
  },
  {
   "cell_type": "code",
   "execution_count": 19,
   "metadata": {},
   "outputs": [
    {
     "name": "stdout",
     "output_type": "stream",
     "text": [
      "Número de linhas e colunas: (36008, 75)\n",
      "Duas primeiras linhas:\n"
     ]
    },
    {
     "data": {
      "text/html": [
       "<div>\n",
       "<style scoped>\n",
       "    .dataframe tbody tr th:only-of-type {\n",
       "        vertical-align: middle;\n",
       "    }\n",
       "\n",
       "    .dataframe tbody tr th {\n",
       "        vertical-align: top;\n",
       "    }\n",
       "\n",
       "    .dataframe thead th {\n",
       "        text-align: right;\n",
       "    }\n",
       "</style>\n",
       "<table border=\"1\" class=\"dataframe\">\n",
       "  <thead>\n",
       "    <tr style=\"text-align: right;\">\n",
       "      <th></th>\n",
       "      <th>id</th>\n",
       "      <th>listing_url</th>\n",
       "      <th>scrape_id</th>\n",
       "      <th>last_scraped</th>\n",
       "      <th>source</th>\n",
       "      <th>name</th>\n",
       "      <th>description</th>\n",
       "      <th>neighborhood_overview</th>\n",
       "      <th>picture_url</th>\n",
       "      <th>host_id</th>\n",
       "      <th>...</th>\n",
       "      <th>review_scores_communication</th>\n",
       "      <th>review_scores_location</th>\n",
       "      <th>review_scores_value</th>\n",
       "      <th>license</th>\n",
       "      <th>instant_bookable</th>\n",
       "      <th>calculated_host_listings_count</th>\n",
       "      <th>calculated_host_listings_count_entire_homes</th>\n",
       "      <th>calculated_host_listings_count_private_rooms</th>\n",
       "      <th>calculated_host_listings_count_shared_rooms</th>\n",
       "      <th>reviews_per_month</th>\n",
       "    </tr>\n",
       "  </thead>\n",
       "  <tbody>\n",
       "    <tr>\n",
       "      <th>0</th>\n",
       "      <td>17878</td>\n",
       "      <td>https://www.airbnb.com/rooms/17878</td>\n",
       "      <td>20231226034138</td>\n",
       "      <td>2023-12-27</td>\n",
       "      <td>city scrape</td>\n",
       "      <td>Condo in Rio de Janeiro · ★4.70 · 2 bedrooms ·...</td>\n",
       "      <td>None</td>\n",
       "      <td>This is the one of the bests spots in Rio. Bec...</td>\n",
       "      <td>https://a0.muscache.com/pictures/65320518/3069...</td>\n",
       "      <td>68997</td>\n",
       "      <td>...</td>\n",
       "      <td>4.91</td>\n",
       "      <td>4.77</td>\n",
       "      <td>4.67</td>\n",
       "      <td>None</td>\n",
       "      <td>False</td>\n",
       "      <td>1</td>\n",
       "      <td>1</td>\n",
       "      <td>0</td>\n",
       "      <td>0</td>\n",
       "      <td>1.90</td>\n",
       "    </tr>\n",
       "    <tr>\n",
       "      <th>1</th>\n",
       "      <td>25026</td>\n",
       "      <td>https://www.airbnb.com/rooms/25026</td>\n",
       "      <td>20231226034138</td>\n",
       "      <td>2023-12-27</td>\n",
       "      <td>city scrape</td>\n",
       "      <td>Rental unit in Rio de Janeiro · ★4.72 · 1 bedr...</td>\n",
       "      <td>None</td>\n",
       "      <td>Copacabana is a lively neighborhood and the ap...</td>\n",
       "      <td>https://a0.muscache.com/pictures/a745aa21-b8dd...</td>\n",
       "      <td>102840</td>\n",
       "      <td>...</td>\n",
       "      <td>4.92</td>\n",
       "      <td>4.84</td>\n",
       "      <td>4.60</td>\n",
       "      <td>None</td>\n",
       "      <td>False</td>\n",
       "      <td>1</td>\n",
       "      <td>1</td>\n",
       "      <td>0</td>\n",
       "      <td>0</td>\n",
       "      <td>1.67</td>\n",
       "    </tr>\n",
       "  </tbody>\n",
       "</table>\n",
       "<p>2 rows × 75 columns</p>\n",
       "</div>"
      ],
      "text/plain": [
       "      id                         listing_url       scrape_id last_scraped  \\\n",
       "0  17878  https://www.airbnb.com/rooms/17878  20231226034138   2023-12-27   \n",
       "1  25026  https://www.airbnb.com/rooms/25026  20231226034138   2023-12-27   \n",
       "\n",
       "        source                                               name description  \\\n",
       "0  city scrape  Condo in Rio de Janeiro · ★4.70 · 2 bedrooms ·...        None   \n",
       "1  city scrape  Rental unit in Rio de Janeiro · ★4.72 · 1 bedr...        None   \n",
       "\n",
       "                               neighborhood_overview  \\\n",
       "0  This is the one of the bests spots in Rio. Bec...   \n",
       "1  Copacabana is a lively neighborhood and the ap...   \n",
       "\n",
       "                                         picture_url  host_id  ...  \\\n",
       "0  https://a0.muscache.com/pictures/65320518/3069...    68997  ...   \n",
       "1  https://a0.muscache.com/pictures/a745aa21-b8dd...   102840  ...   \n",
       "\n",
       "  review_scores_communication review_scores_location review_scores_value  \\\n",
       "0                        4.91                   4.77                4.67   \n",
       "1                        4.92                   4.84                4.60   \n",
       "\n",
       "  license instant_bookable calculated_host_listings_count  \\\n",
       "0    None            False                              1   \n",
       "1    None            False                              1   \n",
       "\n",
       "  calculated_host_listings_count_entire_homes  \\\n",
       "0                                           1   \n",
       "1                                           1   \n",
       "\n",
       "  calculated_host_listings_count_private_rooms  \\\n",
       "0                                            0   \n",
       "1                                            0   \n",
       "\n",
       "  calculated_host_listings_count_shared_rooms reviews_per_month  \n",
       "0                                           0              1.90  \n",
       "1                                           0              1.67  \n",
       "\n",
       "[2 rows x 75 columns]"
      ]
     },
     "execution_count": 19,
     "metadata": {},
     "output_type": "execute_result"
    }
   ],
   "source": [
    "print(\"Número de linhas e colunas:\", df_listings.shape)\n",
    "print(\"Duas primeiras linhas:\")\n",
    "df_listings.head(2)"
   ]
  },
  {
   "cell_type": "code",
   "execution_count": 20,
   "metadata": {},
   "outputs": [
    {
     "name": "stdout",
     "output_type": "stream",
     "text": [
      "Número de linhas e colunas: (703796, 6)\n",
      "Duas primeiras linhas:\n"
     ]
    },
    {
     "data": {
      "text/html": [
       "<div>\n",
       "<style scoped>\n",
       "    .dataframe tbody tr th:only-of-type {\n",
       "        vertical-align: middle;\n",
       "    }\n",
       "\n",
       "    .dataframe tbody tr th {\n",
       "        vertical-align: top;\n",
       "    }\n",
       "\n",
       "    .dataframe thead th {\n",
       "        text-align: right;\n",
       "    }\n",
       "</style>\n",
       "<table border=\"1\" class=\"dataframe\">\n",
       "  <thead>\n",
       "    <tr style=\"text-align: right;\">\n",
       "      <th></th>\n",
       "      <th>listing_id</th>\n",
       "      <th>id</th>\n",
       "      <th>date</th>\n",
       "      <th>reviewer_id</th>\n",
       "      <th>reviewer_name</th>\n",
       "      <th>comments</th>\n",
       "    </tr>\n",
       "  </thead>\n",
       "  <tbody>\n",
       "    <tr>\n",
       "      <th>0</th>\n",
       "      <td>17878</td>\n",
       "      <td>64852</td>\n",
       "      <td>2010-07-15</td>\n",
       "      <td>135370</td>\n",
       "      <td>Tia</td>\n",
       "      <td>This apartment is in a perfect location -- two...</td>\n",
       "    </tr>\n",
       "    <tr>\n",
       "      <th>1</th>\n",
       "      <td>216700</td>\n",
       "      <td>1511171</td>\n",
       "      <td>2012-06-18</td>\n",
       "      <td>2598011</td>\n",
       "      <td>Evelyn</td>\n",
       "      <td>A estada foi maravilhosa, ficamos so 3 noites ...</td>\n",
       "    </tr>\n",
       "  </tbody>\n",
       "</table>\n",
       "</div>"
      ],
      "text/plain": [
       "   listing_id       id        date  reviewer_id reviewer_name  \\\n",
       "0       17878    64852  2010-07-15       135370           Tia   \n",
       "1      216700  1511171  2012-06-18      2598011        Evelyn   \n",
       "\n",
       "                                            comments  \n",
       "0  This apartment is in a perfect location -- two...  \n",
       "1  A estada foi maravilhosa, ficamos so 3 noites ...  "
      ]
     },
     "execution_count": 20,
     "metadata": {},
     "output_type": "execute_result"
    }
   ],
   "source": [
    "print(\"Número de linhas e colunas:\", df_reviews.shape)\n",
    "print(\"Duas primeiras linhas:\")\n",
    "df_reviews.head(2)"
   ]
  },
  {
   "cell_type": "code",
   "execution_count": 21,
   "metadata": {},
   "outputs": [
    {
     "name": "stdout",
     "output_type": "stream",
     "text": [
      "Número de linhas e colunas: (13145595, 7)\n",
      "Duas primeiras linhas:\n"
     ]
    },
    {
     "data": {
      "text/html": [
       "<div>\n",
       "<style scoped>\n",
       "    .dataframe tbody tr th:only-of-type {\n",
       "        vertical-align: middle;\n",
       "    }\n",
       "\n",
       "    .dataframe tbody tr th {\n",
       "        vertical-align: top;\n",
       "    }\n",
       "\n",
       "    .dataframe thead th {\n",
       "        text-align: right;\n",
       "    }\n",
       "</style>\n",
       "<table border=\"1\" class=\"dataframe\">\n",
       "  <thead>\n",
       "    <tr style=\"text-align: right;\">\n",
       "      <th></th>\n",
       "      <th>listing_id</th>\n",
       "      <th>date</th>\n",
       "      <th>available</th>\n",
       "      <th>price</th>\n",
       "      <th>adjusted_price</th>\n",
       "      <th>minimum_nights</th>\n",
       "      <th>maximum_nights</th>\n",
       "    </tr>\n",
       "  </thead>\n",
       "  <tbody>\n",
       "    <tr>\n",
       "      <th>0</th>\n",
       "      <td>17878</td>\n",
       "      <td>2023-12-27</td>\n",
       "      <td>False</td>\n",
       "      <td>$350.00</td>\n",
       "      <td>None</td>\n",
       "      <td>5.0</td>\n",
       "      <td>28.0</td>\n",
       "    </tr>\n",
       "    <tr>\n",
       "      <th>1</th>\n",
       "      <td>17878</td>\n",
       "      <td>2023-12-28</td>\n",
       "      <td>False</td>\n",
       "      <td>$350.00</td>\n",
       "      <td>None</td>\n",
       "      <td>5.0</td>\n",
       "      <td>28.0</td>\n",
       "    </tr>\n",
       "  </tbody>\n",
       "</table>\n",
       "</div>"
      ],
      "text/plain": [
       "   listing_id        date  available    price adjusted_price  minimum_nights  \\\n",
       "0       17878  2023-12-27      False  $350.00           None             5.0   \n",
       "1       17878  2023-12-28      False  $350.00           None             5.0   \n",
       "\n",
       "   maximum_nights  \n",
       "0            28.0  \n",
       "1            28.0  "
      ]
     },
     "execution_count": 21,
     "metadata": {},
     "output_type": "execute_result"
    }
   ],
   "source": [
    "print(\"Número de linhas e colunas:\", df_calendar.shape)\n",
    "print(\"Duas primeiras linhas:\")\n",
    "df_calendar.head(2)"
   ]
  },
  {
   "cell_type": "markdown",
   "metadata": {},
   "source": [
    "# Silver"
   ]
  },
  {
   "cell_type": "markdown",
   "metadata": {},
   "source": [
    "### Clean data\n",
    "- Identifique e lide com valores ausentes, duplicatas e outliers nos dados brutos da camada \"bronze\".\n"
   ]
  },
  {
   "cell_type": "code",
   "execution_count": null,
   "metadata": {},
   "outputs": [],
   "source": [
    "def remove_valores_ausentes(df):\n",
    "    pass"
   ]
  },
  {
   "cell_type": "code",
   "execution_count": null,
   "metadata": {},
   "outputs": [],
   "source": [
    "def remove_duplicatas(df):\n",
    "    pass"
   ]
  },
  {
   "cell_type": "code",
   "execution_count": null,
   "metadata": {},
   "outputs": [],
   "source": [
    "def remove_outliers(df):\n",
    "    pass"
   ]
  },
  {
   "cell_type": "code",
   "execution_count": 12,
   "metadata": {},
   "outputs": [],
   "source": [
    "#def clean_data(df):\n",
    "    # Identificar e lidar com valores ausentes\n",
    "    #df = df.replace('', np.nan)  # substituir strings vazias por NaN\n",
    "    #df = df.dropna()  # remover linhas com valores NaN\n",
    "\n",
    "    # Lidar com duplicatas\n",
    "    #df = df.drop_duplicates()\n",
    "\n",
    "    # Lidar com outliers\n",
    "    # Aqui, usamos o método do Intervalo Interquartil (IQR) para identificar e remover outliers\n",
    "    # Este é apenas um exemplo e pode não ser adequado para todos os conjuntos de dados ou colunas\n",
    "    #Q1 = df.quantile(0.25)\n",
    "    #Q3 = df.quantile(0.75)\n",
    "    #IQR = Q3 - Q1\n",
    "    #df = df[~((df < (Q1 - 1.5 * IQR)) | (df > (Q3 + 1.5 * IQR))).any(axis=1)]\n",
    "\n",
    "    #return df"
   ]
  },
  {
   "cell_type": "code",
   "execution_count": null,
   "metadata": {},
   "outputs": [],
   "source": [
    "# Exemplo de uso:\n",
    "#df_listings_clean = clean_data(df_listings)\n",
    "#df_reviews_clean = clean_data(df_reviews)\n",
    "#df_calendar_clean = clean_data(df_calendar)"
   ]
  },
  {
   "cell_type": "markdown",
   "metadata": {},
   "source": [
    "### Padronizacao de colunas\n",
    "- Padronize e limpe os nomes das colunas, convertendo-os em um formato consistente.\n"
   ]
  },
  {
   "cell_type": "code",
   "execution_count": null,
   "metadata": {},
   "outputs": [],
   "source": [
    "def clean_column_names(df):\n",
    "    # Remover espaços e converter para minúsculas\n",
    "    df.columns = df.columns.str.replace(' ', '_').str.lower()\n",
    "    return df"
   ]
  },
  {
   "cell_type": "code",
   "execution_count": null,
   "metadata": {},
   "outputs": [],
   "source": [
    "def converte_formato(df):\n",
    "    pass"
   ]
  },
  {
   "cell_type": "code",
   "execution_count": 24,
   "metadata": {},
   "outputs": [],
   "source": [
    "def tratar_df_reviews(df):\n",
    "    df['date'] = pd.to_datetime(df['date'])\n",
    "\n",
    "    return df"
   ]
  },
  {
   "cell_type": "code",
   "execution_count": 25,
   "metadata": {},
   "outputs": [
    {
     "data": {
      "text/plain": [
       "listing_id                int64\n",
       "id                        int64\n",
       "date             datetime64[ns]\n",
       "reviewer_id               int64\n",
       "reviewer_name            object\n",
       "comments                 object\n",
       "dtype: object"
      ]
     },
     "execution_count": 25,
     "metadata": {},
     "output_type": "execute_result"
    }
   ],
   "source": [
    "df_reviews_clean = tratar_df_reviews(df_reviews)\n",
    "df_reviews_clean.dtypes"
   ]
  },
  {
   "cell_type": "markdown",
   "metadata": {},
   "source": [
    "### Limpeza textual\n",
    "- Realize uma limpeza textual em campos, como descrições de propriedades, removendo caracteres especiais e erros de digitação.\n"
   ]
  },
  {
   "cell_type": "code",
   "execution_count": null,
   "metadata": {},
   "outputs": [],
   "source": [
    "def remove_chars(df):\n",
    "    pass"
   ]
  },
  {
   "cell_type": "code",
   "execution_count": null,
   "metadata": {},
   "outputs": [],
   "source": [
    "def remove_erros(df):\n",
    "    pass"
   ]
  },
  {
   "cell_type": "code",
   "execution_count": null,
   "metadata": {},
   "outputs": [],
   "source": [
    "print(df_calendar.dtypes)"
   ]
  },
  {
   "cell_type": "code",
   "execution_count": 28,
   "metadata": {},
   "outputs": [
    {
     "data": {
      "text/html": [
       "<div>\n",
       "<style scoped>\n",
       "    .dataframe tbody tr th:only-of-type {\n",
       "        vertical-align: middle;\n",
       "    }\n",
       "\n",
       "    .dataframe tbody tr th {\n",
       "        vertical-align: top;\n",
       "    }\n",
       "\n",
       "    .dataframe thead th {\n",
       "        text-align: right;\n",
       "    }\n",
       "</style>\n",
       "<table border=\"1\" class=\"dataframe\">\n",
       "  <thead>\n",
       "    <tr style=\"text-align: right;\">\n",
       "      <th></th>\n",
       "      <th>listing_id</th>\n",
       "      <th>id</th>\n",
       "      <th>date</th>\n",
       "      <th>reviewer_id</th>\n",
       "      <th>reviewer_name</th>\n",
       "      <th>comments</th>\n",
       "    </tr>\n",
       "  </thead>\n",
       "  <tbody>\n",
       "    <tr>\n",
       "      <th>0</th>\n",
       "      <td>17878</td>\n",
       "      <td>64852</td>\n",
       "      <td>2010-07-15</td>\n",
       "      <td>135370</td>\n",
       "      <td>Tia</td>\n",
       "      <td>This apartment is in a perfect location -- two...</td>\n",
       "    </tr>\n",
       "    <tr>\n",
       "      <th>1</th>\n",
       "      <td>216700</td>\n",
       "      <td>1511171</td>\n",
       "      <td>2012-06-18</td>\n",
       "      <td>2598011</td>\n",
       "      <td>Evelyn</td>\n",
       "      <td>A estada foi maravilhosa, ficamos so 3 noites ...</td>\n",
       "    </tr>\n",
       "    <tr>\n",
       "      <th>2</th>\n",
       "      <td>216700</td>\n",
       "      <td>1550596</td>\n",
       "      <td>2012-06-24</td>\n",
       "      <td>2465739</td>\n",
       "      <td>Camila</td>\n",
       "      <td>The apartment is located in the beautiful Lara...</td>\n",
       "    </tr>\n",
       "    <tr>\n",
       "      <th>3</th>\n",
       "      <td>17878</td>\n",
       "      <td>76744</td>\n",
       "      <td>2010-08-11</td>\n",
       "      <td>10206</td>\n",
       "      <td>Mimi</td>\n",
       "      <td>we had a really great experience staying in Ma...</td>\n",
       "    </tr>\n",
       "    <tr>\n",
       "      <th>4</th>\n",
       "      <td>17878</td>\n",
       "      <td>91074</td>\n",
       "      <td>2010-09-06</td>\n",
       "      <td>80253</td>\n",
       "      <td>Jan</td>\n",
       "      <td>Staying in Max appartment is like living in a ...</td>\n",
       "    </tr>\n",
       "    <tr>\n",
       "      <th>...</th>\n",
       "      <td>...</td>\n",
       "      <td>...</td>\n",
       "      <td>...</td>\n",
       "      <td>...</td>\n",
       "      <td>...</td>\n",
       "      <td>...</td>\n",
       "    </tr>\n",
       "    <tr>\n",
       "      <th>703791</th>\n",
       "      <td>1053655074004481557</td>\n",
       "      <td>1055764873322213198</td>\n",
       "      <td>2023-12-27</td>\n",
       "      <td>523745376</td>\n",
       "      <td>Adriana</td>\n",
       "      <td>Apartamento top! Super novo, limpinho, todo eq...</td>\n",
       "    </tr>\n",
       "    <tr>\n",
       "      <th>703792</th>\n",
       "      <td>1053716797020259779</td>\n",
       "      <td>1054357802054468817</td>\n",
       "      <td>2023-12-25</td>\n",
       "      <td>488321805</td>\n",
       "      <td>Juliana</td>\n",
       "      <td>Passamos dias maravilhosos aqui! A vista é sim...</td>\n",
       "    </tr>\n",
       "    <tr>\n",
       "      <th>703793</th>\n",
       "      <td>1053716797020259779</td>\n",
       "      <td>1055794588292689437</td>\n",
       "      <td>2023-12-27</td>\n",
       "      <td>206634401</td>\n",
       "      <td>Victor</td>\n",
       "      <td>Excelente anfitrião! Super atencioso e cortês!...</td>\n",
       "    </tr>\n",
       "    <tr>\n",
       "      <th>703794</th>\n",
       "      <td>1050572397352975357</td>\n",
       "      <td>1055147776405273833</td>\n",
       "      <td>2023-12-26</td>\n",
       "      <td>257578099</td>\n",
       "      <td>Dominiky</td>\n",
       "      <td>Li preparou tudo e nós recebeu muito bem, com ...</td>\n",
       "    </tr>\n",
       "    <tr>\n",
       "      <th>703795</th>\n",
       "      <td>1052351794224065415</td>\n",
       "      <td>1053610730723650852</td>\n",
       "      <td>2023-12-24</td>\n",
       "      <td>546368460</td>\n",
       "      <td>Cicera</td>\n",
       "      <td>Amei o apartamento. A decoração esta linda, tu...</td>\n",
       "    </tr>\n",
       "  </tbody>\n",
       "</table>\n",
       "<p>703796 rows × 6 columns</p>\n",
       "</div>"
      ],
      "text/plain": [
       "                 listing_id                   id       date  reviewer_id  \\\n",
       "0                     17878                64852 2010-07-15       135370   \n",
       "1                    216700              1511171 2012-06-18      2598011   \n",
       "2                    216700              1550596 2012-06-24      2465739   \n",
       "3                     17878                76744 2010-08-11        10206   \n",
       "4                     17878                91074 2010-09-06        80253   \n",
       "...                     ...                  ...        ...          ...   \n",
       "703791  1053655074004481557  1055764873322213198 2023-12-27    523745376   \n",
       "703792  1053716797020259779  1054357802054468817 2023-12-25    488321805   \n",
       "703793  1053716797020259779  1055794588292689437 2023-12-27    206634401   \n",
       "703794  1050572397352975357  1055147776405273833 2023-12-26    257578099   \n",
       "703795  1052351794224065415  1053610730723650852 2023-12-24    546368460   \n",
       "\n",
       "       reviewer_name                                           comments  \n",
       "0                Tia  This apartment is in a perfect location -- two...  \n",
       "1             Evelyn  A estada foi maravilhosa, ficamos so 3 noites ...  \n",
       "2             Camila  The apartment is located in the beautiful Lara...  \n",
       "3               Mimi  we had a really great experience staying in Ma...  \n",
       "4                Jan  Staying in Max appartment is like living in a ...  \n",
       "...              ...                                                ...  \n",
       "703791       Adriana  Apartamento top! Super novo, limpinho, todo eq...  \n",
       "703792       Juliana  Passamos dias maravilhosos aqui! A vista é sim...  \n",
       "703793        Victor  Excelente anfitrião! Super atencioso e cortês!...  \n",
       "703794      Dominiky  Li preparou tudo e nós recebeu muito bem, com ...  \n",
       "703795        Cicera  Amei o apartamento. A decoração esta linda, tu...  \n",
       "\n",
       "[703796 rows x 6 columns]"
      ]
     },
     "execution_count": 28,
     "metadata": {},
     "output_type": "execute_result"
    }
   ],
   "source": [
    "df_reviews_clean"
   ]
  },
  {
   "cell_type": "code",
   "execution_count": null,
   "metadata": {},
   "outputs": [],
   "source": [
    "# df_listings = clean_column_names(df_listings)\n",
    "# df_reviews = clean_column_names(df_reviews)\n",
    "# df_calendar = clean_column_names(df_calendar)"
   ]
  },
  {
   "cell_type": "code",
   "execution_count": null,
   "metadata": {},
   "outputs": [],
   "source": [
    "#def clean_data_specific(df):\n",
    "#    for col in df.columns:\n",
    "#        if df[col].dtype == 'object':  # se a coluna é do tipo texto\n",
    "#            df[col] = df[col].apply(clean_text)\n",
    "#            Se a coluna deve ser numérica, converta-a\n",
    "#            if col in ['host_response_rate', 'host_acceptance_rate', 'price']:\n",
    "                #df[col] = df[col].str.replace('%', '').str.replace('$', '').astype(float)\n",
    "#        elif df[col].dtype in ['int64', 'float64']:  # se a coluna é numérica\n",
    "#            df[col] = df[col].fillna(0)  # preenche valores ausentes com 0\n",
    "#        elif df[col].dtype == 'datetime64':  # se a coluna é uma data/hora\n",
    "#           df[col] = pd.to_datetime(df[col], errors='coerce')  # converte para o tipo de data correto\n",
    "#    return df"
   ]
  },
  {
   "cell_type": "code",
   "execution_count": null,
   "metadata": {},
   "outputs": [],
   "source": [
    "# Exemplo de uso:\n",
    "# df = clean_data_specific(df)"
   ]
  }
 ],
 "metadata": {
  "kernelspec": {
   "display_name": "Python 3",
   "language": "python",
   "name": "python3"
  },
  "language_info": {
   "codemirror_mode": {
    "name": "ipython",
    "version": 3
   },
   "file_extension": ".py",
   "mimetype": "text/x-python",
   "name": "python",
   "nbconvert_exporter": "python",
   "pygments_lexer": "ipython3",
   "version": "3.11.5"
  }
 },
 "nbformat": 4,
 "nbformat_minor": 2
}
