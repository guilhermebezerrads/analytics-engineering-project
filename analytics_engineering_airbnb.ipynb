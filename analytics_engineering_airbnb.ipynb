{
 "cells": [
  {
   "cell_type": "code",
   "execution_count": 4,
   "metadata": {},
<<<<<<< HEAD
   "outputs": [
    {
     "name": "stderr",
     "output_type": "stream",
     "text": [
      "C:\\Users\\Acer\\AppData\\Local\\Packages\\PythonSoftwareFoundation.Python.3.12_qbz5n2kfra8p0\\LocalCache\\local-packages\\Python312\\site-packages\\tqdm\\auto.py:21: TqdmWarning: IProgress not found. Please update jupyter and ipywidgets. See https://ipywidgets.readthedocs.io/en/stable/user_install.html\n",
      "  from .autonotebook import tqdm as notebook_tqdm\n"
     ]
    }
   ],
=======
   "outputs": [],
>>>>>>> 92279e8e369b1a86e1b6829c7daa422b8e160112
   "source": [
    "import pandas as pd\n",
    "import psycopg2\n",
    "import numpy as np\n",
    "import re\n",
    "from sqlalchemy import create_engine, text as sql_text\n",
    "import datetime\n",
    "from ydata_profiling import ProfileReport"
   ]
  },
  {
   "cell_type": "markdown",
   "metadata": {},
   "source": [
    "# Projeto Analytics Engineering - Inside Airbnb"
   ]
  },
  {
   "cell_type": "markdown",
   "metadata": {},
   "source": [
    "## PostgreSQL - Exportação dos dados \"raw\""
   ]
  },
  {
   "cell_type": "markdown",
   "metadata": {},
   "source": [
    "Conjunto de dados:  \"Inside Airbnb\"\n",
    "\n",
    "Passo a Passo:\n",
    "1. Vá no link https://insideairbnb.com/get-the-data\n",
    "2. Procure por \"Rio de Janeiro\"\n",
    "3. Baixe os 3 .csv: \"Listing\", \"Reviews\" e Calendar\" \n",
    "\n",
    "0bs: Caso queira pular estes passos, basta utilizar os .csvs que já estão nessa pasta: https://drive.google.com/drive/folders/1pwCpVsMu5si7BX1lzWX3tipP3fAPuoX3?usp=drive_link"
   ]
  },
  {
   "cell_type": "markdown",
   "metadata": {},
   "source": [
    "4. Crie uma pasta dentro desse repositorio como 'raw_data' e adicione os 3 .csv"
   ]
  },
  {
   "cell_type": "markdown",
   "metadata": {},
   "source": [
    "### Conexão com PostgreSQL"
   ]
  },
  {
   "cell_type": "code",
<<<<<<< HEAD
   "execution_count": 5,
=======
   "execution_count": 3,
>>>>>>> 92279e8e369b1a86e1b6829c7daa422b8e160112
   "metadata": {},
   "outputs": [],
   "source": [
    "# James:\n",
<<<<<<< HEAD
    "conn = psycopg2.connect(dbname='airbnb_project', user='postgres', host='localhost', password='123456', port=\"5432\")\n",
    "\n",
    "db_params = {\n",
    "    'dbname': 'airbnb_project',\n",
    "    'user': 'postgres',\n",
    "    'host': 'localhost',\n",
    "    'password': '123456',\n",
    "    'port': '5432'\n",
=======
    "# dbname='airbnb_project'\n",
    "# user='postgres'\n",
    "# host='localhost'\n",
    "# password='admin'\n",
    "# port='5432'\n",
    "\n",
    "# Marcela: \n",
    "dbname='myDBProject'\n",
    "user='postgres'\n",
    "host='localhost'\n",
    "password='0125698741'\n",
    "port='5433'"
   ]
  },
  {
   "cell_type": "code",
   "execution_count": 4,
   "metadata": {},
   "outputs": [],
   "source": [
    "conn = psycopg2.connect(dbname=dbname, user=user, host=host, password=password, port=port)\n",
    "db_params = {\n",
    "    'dbname': dbname,\n",
    "    'user': user,\n",
    "    'host': host,\n",
    "    'password': password,\n",
    "    'port': port\n",
>>>>>>> 92279e8e369b1a86e1b6829c7daa422b8e160112
    "}\n",
    "db_url = f'postgresql+psycopg2://{db_params[\"user\"]}:{db_params[\"password\"]}@{db_params[\"host\"]}:{db_params[\"port\"]}/{db_params[\"dbname\"]}'"
   ]
  },
  {
   "cell_type": "code",
   "execution_count": 8,
   "metadata": {},
   "outputs": [],
   "source": [
    "# Marcela: \n",
    "#conn = psycopg2.connect(dbname='myDBProject', user='postgres', host='localhost', password='0125698741', port=\"5433\")\n",
    "#db_params = {\n",
    "#    'dbname': 'myDBProject',\n",
    "#    'user': 'postgres',\n",
    "#    'host': 'localhost',\n",
    "#    'password': '0125698741',\n",
    "#    'port': '5433'\n",
    "#}\n",
    "#db_url = f'postgresql+psycopg2://{db_params[\"user\"]}:{db_params[\"password\"]}@{db_params[\"host\"]}:{db_params[\"port\"]}/{db_params[\"dbname\"]}'\n"
   ]
  },
  {
   "cell_type": "markdown",
   "metadata": {},
   "source": [
    "### Criação das bases 'raw's\n",
    "- Crie um banco de dados PostgreSQL para armazenar os dados brutos das 3 tabelas (\"Listing\", \"Reviews\" e Calendar\") "
   ]
  },
  {
   "cell_type": "code",
<<<<<<< HEAD
   "execution_count": 9,
=======
   "execution_count": 7,
>>>>>>> 92279e8e369b1a86e1b6829c7daa422b8e160112
   "metadata": {},
   "outputs": [],
   "source": [
    "engine = create_engine(db_url)\n",
<<<<<<< HEAD
    "df_listings_raw = pd.read_csv(\"raw_data/listings.csv\")\n",
    "df_reviews_raw = pd.read_csv(\"raw_data/reviews.csv\")\n",
    "df_calendar_raw = pd.read_csv(\"raw_data/calendar.csv\")"
=======
    "#path = 'dbt/analytics_eng_airbnb/raw_data/'\n",
    "path = 'raw_data/'\n",
    "df_listings_raw = pd.read_csv(path + \"listings.csv\")\n",
    "df_reviews_raw = pd.read_csv(path + \"reviews.csv\")\n",
    "df_calendar_raw = pd.read_csv(path + \"calendar.csv\")"
>>>>>>> 92279e8e369b1a86e1b6829c7daa422b8e160112
   ]
  },
  {
   "cell_type": "code",
<<<<<<< HEAD
   "execution_count": 10,
=======
   "execution_count": 8,
>>>>>>> 92279e8e369b1a86e1b6829c7daa422b8e160112
   "metadata": {},
   "outputs": [
    {
     "data": {
      "text/plain": [
       "595"
      ]
     },
<<<<<<< HEAD
     "execution_count": 10,
=======
     "execution_count": 8,
>>>>>>> 92279e8e369b1a86e1b6829c7daa422b8e160112
     "metadata": {},
     "output_type": "execute_result"
    }
   ],
   "source": [
    "df_listings_raw.to_sql('listings_raw', engine, if_exists='replace', index=False)\n",
    "df_reviews_raw.to_sql('reviews_raw', engine, if_exists='replace', index=False)\n",
    "df_calendar_raw.to_sql('calendar_raw', engine, if_exists='replace', index=False)"
   ]
  },
  {
   "cell_type": "code",
   "execution_count": 11,
   "metadata": {},
   "outputs": [],
   "source": [
    "def load_data_from_table(table_name):\n",
    "    query = f\"SELECT * FROM {table_name};\"\n",
    "    df = pd.read_sql_query(query, conn)\n",
    "    return df"
   ]
  },
  {
   "cell_type": "code",
<<<<<<< HEAD
   "execution_count": 12,
   "metadata": {},
   "outputs": [
    {
     "name": "stderr",
     "output_type": "stream",
     "text": [
      "Summarize dataset:  94%|█████████▍| 77/82 [00:09<00:00, 28.74it/s, Calculate auto correlation]                                    C:\\Users\\Acer\\AppData\\Local\\Packages\\PythonSoftwareFoundation.Python.3.12_qbz5n2kfra8p0\\LocalCache\\local-packages\\Python312\\site-packages\\ydata_profiling\\model\\correlations.py:66: UserWarning: There was an attempt to calculate the auto correlation, but this failed.\n",
      "To hide this warning, disable the calculation\n",
      "(using `df.profile_report(correlations={\"auto\": {\"calculate\": False}})`\n",
      "If this is problematic for your use case, please report this as an issue:\n",
      "https://github.com/ydataai/ydata-profiling/issues\n",
      "(include the error message: 'could not convert string to float: '2023-12-27'')\n",
      "  warnings.warn(\n",
      "Summarize dataset: 100%|█████████▉| 1305/1310 [03:31<00:03,  1.43it/s, Missing diagram heatmap]                                                                           C:\\Users\\Acer\\AppData\\Local\\Packages\\PythonSoftwareFoundation.Python.3.12_qbz5n2kfra8p0\\LocalCache\\local-packages\\Python312\\site-packages\\seaborn\\matrix.py:260: FutureWarning: Format strings passed to MaskedConstant are ignored, but in future may error or produce different behavior\n",
      "  annotation = (\"{:\" + self.fmt + \"}\").format(val)\n",
      "C:\\Users\\Acer\\AppData\\Local\\Packages\\PythonSoftwareFoundation.Python.3.12_qbz5n2kfra8p0\\LocalCache\\local-packages\\Python312\\site-packages\\ydata_profiling\\model\\missing.py:78: UserWarning: There was an attempt to generate the Heatmap missing values diagrams, but this failed.\n",
      "To hide this warning, disable the calculation\n",
      "(using `df.profile_report(missing_diagrams={\"Heatmap\": False}`)\n",
      "If this is problematic for your use case, please report this as an issue:\n",
      "https://github.com/ydataai/ydata-profiling/issues\n",
      "(include the error message: 'could not convert string to float: '--'')\n",
      "  warnings.warn(\n",
      "Summarize dataset: 100%|██████████| 1310/1310 [03:31<00:00,  6.18it/s, Completed]               \n",
      "Generate report structure: 100%|██████████| 1/1 [00:41<00:00, 41.19s/it]\n",
      "Render HTML: 100%|██████████| 1/1 [00:36<00:00, 36.86s/it]\n",
      "Export report to file: 100%|██████████| 1/1 [00:00<00:00,  1.80it/s]\n",
      "Summarize dataset: 100%|██████████| 12/12 [01:06<00:00,  5.53s/it, Completed]                     \n",
      "Generate report structure: 100%|██████████| 1/1 [00:06<00:00,  6.32s/it]\n",
      "Render HTML: 100%|██████████| 1/1 [00:00<00:00,  3.96it/s]\n",
      "Export report to file: 100%|██████████| 1/1 [00:00<00:00, 109.85it/s]\n",
      "Summarize dataset:  64%|██████▍   | 9/14 [01:33<00:35,  7.18s/it, Calculate auto correlation]      C:\\Users\\Acer\\AppData\\Local\\Packages\\PythonSoftwareFoundation.Python.3.12_qbz5n2kfra8p0\\LocalCache\\local-packages\\Python312\\site-packages\\ydata_profiling\\model\\correlations.py:66: UserWarning: There was an attempt to calculate the auto correlation, but this failed.\n",
      "To hide this warning, disable the calculation\n",
      "(using `df.profile_report(correlations={\"auto\": {\"calculate\": False}})`\n",
      "If this is problematic for your use case, please report this as an issue:\n",
      "https://github.com/ydataai/ydata-profiling/issues\n",
      "(include the error message: 'could not convert string to float: 'f'')\n",
      "  warnings.warn(\n",
      "Summarize dataset:  81%|████████  | 21/26 [02:31<00:41,  8.38s/it, Missing diagram heatmap]               C:\\Users\\Acer\\AppData\\Local\\Packages\\PythonSoftwareFoundation.Python.3.12_qbz5n2kfra8p0\\LocalCache\\local-packages\\Python312\\site-packages\\seaborn\\matrix.py:260: FutureWarning: Format strings passed to MaskedConstant are ignored, but in future may error or produce different behavior\n",
      "  annotation = (\"{:\" + self.fmt + \"}\").format(val)\n",
      "C:\\Users\\Acer\\AppData\\Local\\Packages\\PythonSoftwareFoundation.Python.3.12_qbz5n2kfra8p0\\LocalCache\\local-packages\\Python312\\site-packages\\ydata_profiling\\model\\missing.py:78: UserWarning: There was an attempt to generate the Heatmap missing values diagrams, but this failed.\n",
      "To hide this warning, disable the calculation\n",
      "(using `df.profile_report(missing_diagrams={\"Heatmap\": False}`)\n",
      "If this is problematic for your use case, please report this as an issue:\n",
      "https://github.com/ydataai/ydata-profiling/issues\n",
      "(include the error message: 'could not convert string to float: '--'')\n",
      "  warnings.warn(\n",
      "Summarize dataset: 100%|██████████| 26/26 [02:42<00:00,  6.26s/it, Completed]               \n",
      "Generate report structure: 100%|██████████| 1/1 [00:03<00:00,  3.27s/it]\n",
      "Render HTML: 100%|██████████| 1/1 [00:00<00:00,  1.67it/s]\n",
      "Export report to file: 100%|██████████| 1/1 [00:00<00:00, 62.58it/s]\n"
     ]
=======
   "execution_count": 9,
   "metadata": {},
   "outputs": [
    {
     "data": {
      "application/vnd.jupyter.widget-view+json": {
       "model_id": "0ab9d80576ca45b09d19be67e1dfdfa4",
       "version_major": 2,
       "version_minor": 0
      },
      "text/plain": [
       "Summarize dataset:   0%|          | 0/5 [00:00<?, ?it/s]"
      ]
     },
     "metadata": {},
     "output_type": "display_data"
    },
    {
     "data": {
      "application/vnd.jupyter.widget-view+json": {
       "model_id": "76f2f73baa0c480983015be8d8010870",
       "version_major": 2,
       "version_minor": 0
      },
      "text/plain": [
       "Generate report structure:   0%|          | 0/1 [00:00<?, ?it/s]"
      ]
     },
     "metadata": {},
     "output_type": "display_data"
    },
    {
     "data": {
      "application/vnd.jupyter.widget-view+json": {
       "model_id": "4323357743a34cbf99f6548a7c367ec1",
       "version_major": 2,
       "version_minor": 0
      },
      "text/plain": [
       "Render HTML:   0%|          | 0/1 [00:00<?, ?it/s]"
      ]
     },
     "metadata": {},
     "output_type": "display_data"
    },
    {
     "data": {
      "application/vnd.jupyter.widget-view+json": {
       "model_id": "b7a70b0d65dc4cb9bcc8281c54c55bea",
       "version_major": 2,
       "version_minor": 0
      },
      "text/plain": [
       "Export report to file:   0%|          | 0/1 [00:00<?, ?it/s]"
      ]
     },
     "metadata": {},
     "output_type": "display_data"
    },
    {
     "data": {
      "application/vnd.jupyter.widget-view+json": {
       "model_id": "38af3b4056b14ce3af222d5c1b7e0d2b",
       "version_major": 2,
       "version_minor": 0
      },
      "text/plain": [
       "Summarize dataset:   0%|          | 0/5 [00:00<?, ?it/s]"
      ]
     },
     "metadata": {},
     "output_type": "display_data"
    },
    {
     "data": {
      "application/vnd.jupyter.widget-view+json": {
       "model_id": "e8aa51729e4646bbbb4632d5596f7697",
       "version_major": 2,
       "version_minor": 0
      },
      "text/plain": [
       "Generate report structure:   0%|          | 0/1 [00:00<?, ?it/s]"
      ]
     },
     "metadata": {},
     "output_type": "display_data"
    },
    {
     "data": {
      "application/vnd.jupyter.widget-view+json": {
       "model_id": "d54cceee8f434778ab3c05bc8ff0c258",
       "version_major": 2,
       "version_minor": 0
      },
      "text/plain": [
       "Render HTML:   0%|          | 0/1 [00:00<?, ?it/s]"
      ]
     },
     "metadata": {},
     "output_type": "display_data"
    },
    {
     "data": {
      "application/vnd.jupyter.widget-view+json": {
       "model_id": "8cfed767f0094a5ab8f71ad490f19c2a",
       "version_major": 2,
       "version_minor": 0
      },
      "text/plain": [
       "Export report to file:   0%|          | 0/1 [00:00<?, ?it/s]"
      ]
     },
     "metadata": {},
     "output_type": "display_data"
    },
    {
     "data": {
      "application/vnd.jupyter.widget-view+json": {
       "model_id": "40bbdbca47f64877ba48b05d62ae6abe",
       "version_major": 2,
       "version_minor": 0
      },
      "text/plain": [
       "Summarize dataset:   0%|          | 0/5 [00:00<?, ?it/s]"
      ]
     },
     "metadata": {},
     "output_type": "display_data"
    },
    {
     "data": {
      "application/vnd.jupyter.widget-view+json": {
       "model_id": "3116b1179fba4ab9ba6a8f17e6337af1",
       "version_major": 2,
       "version_minor": 0
      },
      "text/plain": [
       "Generate report structure:   0%|          | 0/1 [00:00<?, ?it/s]"
      ]
     },
     "metadata": {},
     "output_type": "display_data"
    },
    {
     "data": {
      "application/vnd.jupyter.widget-view+json": {
       "model_id": "23692e73153f486c80865eb83e2bd8f8",
       "version_major": 2,
       "version_minor": 0
      },
      "text/plain": [
       "Render HTML:   0%|          | 0/1 [00:00<?, ?it/s]"
      ]
     },
     "metadata": {},
     "output_type": "display_data"
    },
    {
     "data": {
      "application/vnd.jupyter.widget-view+json": {
       "model_id": "77ce4a4bd4b543469e41327cef64d23d",
       "version_major": 2,
       "version_minor": 0
      },
      "text/plain": [
       "Export report to file:   0%|          | 0/1 [00:00<?, ?it/s]"
      ]
     },
     "metadata": {},
     "output_type": "display_data"
>>>>>>> 92279e8e369b1a86e1b6829c7daa422b8e160112
    }
   ],
   "source": [
    "profile = ProfileReport(df_listings_raw, title=\"Listings Report\")\n",
    "profile.to_file(\"resultados_listings.html\")\n",
    "profile = ProfileReport(df_reviews_raw, title=\"Reviews Report\", minimal=True)\n",
    "profile.to_file(\"resultados_reviews.html\")\n",
    "profile = ProfileReport(df_calendar_raw, title=\"Calendar Report\")\n",
    "profile.to_file(\"resultados_calendar.html\")"
   ]
  },
  {
   "cell_type": "markdown",
   "metadata": {},
   "source": [
    "## DBT - Inicialização"
   ]
  },
  {
   "cell_type": "markdown",
   "metadata": {},
   "source": [
    "Passo a Passo:\n",
    "1) Instale o DBT\n",
    "- python -m pip install dbt-postgres\n",
    "- pip install dbt\n"
   ]
  },
  {
   "cell_type": "markdown",
   "metadata": {},
   "source": [
    "2) Vá até sua pasta \"dbt\" e rode o comando:\n",
    "3) dbt init analytics_eng_airbnb \n",
    "\n",
    "OBS: você pode pular os passos 2 e 3 utilizando a pasta \"dbt\" dentro do arquivo do Github\n"
   ]
  },
  {
   "cell_type": "markdown",
   "metadata": {},
   "source": [
    "# Camadas"
   ]
  },
  {
   "cell_type": "markdown",
   "metadata": {},
   "source": [
    "## Bronze"
   ]
  },
  {
   "cell_type": "markdown",
   "metadata": {},
   "source": [
    "Verifique os arquivos criados na pasta dbt/analytics_eng_airbnb/models/bronze\n",
    "- source.yml com os sources de \"listing_raw\", \"reviews_raw\", \"calendar_raw\""
   ]
  },
  {
   "cell_type": "markdown",
   "metadata": {},
   "source": [
    "- models.yml com informações e verificações sobre as novas tabelas que serão criadas: \"listing_bronze\", \"reviews_bronze\", \"calendar_bronze\". Nesse arquivo, executamos:\n",
    "    - Verificamos se ID em \"listings\" é unique e not null\n",
    "    - Adicionamos referencias de \"foreign key\" para listings_id"
   ]
  },
  {
   "cell_type": "markdown",
   "metadata": {},
   "source": [
    "- arquivos .sql para cada uma das 3 tabelas"
   ]
  },
  {
   "cell_type": "markdown",
   "metadata": {},
   "source": [
    "Para executar as regras criadas e importar as tabelas _bronze para o seu PostgreSQL, entre na pasta dbt/analytics_eng_airbnb e rode o comando:\n",
    "\n",
    "- dbt run --models bronze"
   ]
  },
  {
   "cell_type": "markdown",
   "metadata": {},
   "source": [
    "## Silver"
   ]
  },
  {
   "cell_type": "markdown",
   "metadata": {},
   "source": [
    "Verifique os arquivos criados na pasta dbt/analytics_eng_airbnb/models/silver\n",
    "- source.yml com os sources de \"listing_bronze\", \"reviews_bronze\", \"calendar_bronze\""
   ]
  },
  {
   "cell_type": "markdown",
   "metadata": {},
   "source": [
    "- models.yml com informações e verificações sobre as novas tabelas que serão criadas: \"listing_silver\", \"reviews_silver\", \"calendar_silver\". Nesse arquivo, executamos:\n",
    "    - X Y Z (Aqui, fale sobre qualidade de dados: integridade, precisão e consistencia para os dados da camada). Fale também quais métricas foram selecionadas para continuar em cada lista e o porque. E também sobre os testes feitos (garantindo que a camada atenda as regras de negocio e requisitos de qualidade). Utilize as colunas selecionadas por Andre, explique porque escolheram elas e adicione os testes \">0\" (e outros que tem lá)."
   ]
  },
  {
   "cell_type": "markdown",
   "metadata": {},
   "source": [
    "- arquivos .sql para cada uma das 3 tabelas. Nesses arquivos, executamos:\n",
    "    - XYZ adicionar "
   ]
  },
  {
   "cell_type": "markdown",
   "metadata": {},
   "source": [
    "Para executar as regras criadas e importar as tabelas _silver para o seu PostgreSQL, entre na pasta dbt/analytics_eng_airbnb e rode o comando:\n",
    "\n",
    "- dbt run --models silver"
   ]
  },
  {
   "cell_type": "markdown",
   "metadata": {},
   "source": [
    "## Gold"
   ]
  },
  {
   "cell_type": "markdown",
   "metadata": {},
   "source": [
    "Verifique os arquivos criados na pasta dbt/analytics_eng_airbnb/models/gold\n",
    "- source.yml com os sources de \"listing_silver\", \"reviews_silver\", \"calendar_silver\""
   ]
  },
  {
   "cell_type": "markdown",
   "metadata": {},
   "source": [
    "- models.yml com informações e verificações sobre as novas tabelas que serão criadas:  \"listing_gold\", \"reviews_gold\", \"calendar_gold\". Nesse arquivo, executamos:\n",
    "    - X Y Z (Aqui, fale sobre agregações aplicadas - quais fora e porquê. Nessa camada testes não precisam ser executados (acho))."
   ]
  },
  {
   "cell_type": "markdown",
   "metadata": {},
   "source": [
    "- arquivos .sql para cada uma das 3 tabelas. Nesses arquivos, executamos:\n",
    "    - XYZ adicionar "
   ]
  },
  {
   "cell_type": "markdown",
   "metadata": {},
   "source": [
    "Para executar as regras criadas e importar as tabelas _gold para o seu PostgreSQL, entre na pasta dbt/analytics_eng_airbnb e rode o comando:\n",
    "\n",
    "- dbt run --models gold"
   ]
  }
 ],
 "metadata": {
  "kernelspec": {
   "display_name": "Python 3",
   "language": "python",
   "name": "python3"
  },
  "language_info": {
   "codemirror_mode": {
    "name": "ipython",
    "version": 3
   },
   "file_extension": ".py",
   "mimetype": "text/x-python",
   "name": "python",
   "nbconvert_exporter": "python",
   "pygments_lexer": "ipython3",
<<<<<<< HEAD
   "version": "3.12.3"
=======
   "version": "3.11.5"
>>>>>>> 92279e8e369b1a86e1b6829c7daa422b8e160112
  }
 },
 "nbformat": 4,
 "nbformat_minor": 2
}
