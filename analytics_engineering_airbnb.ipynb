{
 "cells": [
  {
   "cell_type": "code",
   "execution_count": null,
   "metadata": {},
   "outputs": [],
   "source": [
    "import pandas as pd\n",
    "import psycopg2\n",
    "import numpy as np"
   ]
  },
  {
   "cell_type": "code",
   "execution_count": null,
   "metadata": {},
   "outputs": [],
   "source": [
    "conn = psycopg2.connect(dbname='airbnb_project', user='postgres', host='localhost', password='123456', port=\"5432\")"
   ]
  },
  {
   "cell_type": "code",
   "execution_count": null,
   "metadata": {},
   "outputs": [],
   "source": [
    "def load_data_from_table(table_name):\n",
    "    query = f\"SELECT * FROM {table_name};\"\n",
    "    df = pd.read_sql_query(query, conn)\n",
    "    return df"
   ]
  },
  {
   "cell_type": "code",
   "execution_count": null,
   "metadata": {},
   "outputs": [],
   "source": [
    "def load_data_from_table(table_name):\n",
    "    query = f\"SELECT * FROM {table_name};\"\n",
    "    df = pd.read_sql_query(query, conn)\n",
    "    return df"
   ]
  },
  {
   "cell_type": "code",
   "execution_count": null,
   "metadata": {},
   "outputs": [],
   "source": [
    "# Carregue os dados das tabelas 'listings' , 'reviews' , 'calendar'.\n",
    "df_listings = load_data_from_table('listings')\n",
    "df_reviews = load_data_from_table('reviews')\n",
    "df_calendar = load_data_from_table('calendar')"
   ]
  },
  {
   "cell_type": "code",
   "execution_count": null,
   "metadata": {},
   "outputs": [],
   "source": [
    "def load_data_from_table(table_name):\n",
    "    query = f\"SELECT * FROM {table_name};\"\n",
    "    df = pd.read_sql_query(query, conn)\n",
    "    return df"
   ]
  },
  {
   "cell_type": "code",
   "execution_count": null,
   "metadata": {},
   "outputs": [],
   "source": [
    "def clean_data(df):\n",
    "    # Identificar e lidar com valores ausentes\n",
    "    df = df.replace('', np.nan)  # substituir strings vazias por NaN\n",
    "    df = df.dropna()  # remover linhas com valores NaN\n",
    "\n",
    "    # Lidar com duplicatas\n",
    "    df = df.drop_duplicates()\n",
    "\n",
    "    # Lidar com outliers\n",
    "    # Aqui, usamos o método do Intervalo Interquartil (IQR) para identificar e remover outliers\n",
    "    # Este é apenas um exemplo e pode não ser adequado para todos os conjuntos de dados ou colunas\n",
    "    Q1 = df.quantile(0.25)\n",
    "    Q3 = df.quantile(0.75)\n",
    "    IQR = Q3 - Q1\n",
    "    df = df[~((df < (Q1 - 1.5 * IQR)) | (df > (Q3 + 1.5 * IQR))).any(axis=1)]\n",
    "\n",
    "    return df"
   ]
  },
  {
   "cell_type": "code",
   "execution_count": null,
   "metadata": {},
   "outputs": [],
   "source": [
    "# Exemplo de uso:\n",
    "# df_listings_clean = clean_data(df_listings)\n",
    "# df_reviews_clean = clean_data(df_reviews)\n",
    "# df_calendar_clean = clean_data(df_calendar)"
   ]
  },
  {
   "cell_type": "code",
   "execution_count": null,
   "metadata": {},
   "outputs": [],
   "source": [
    "def clean_column_names(df):\n",
    "    # Remover espaços e converter para minúsculas\n",
    "    df.columns = df.columns.str.replace(' ', '_').str.lower()\n",
    "    return df"
   ]
  },
  {
   "cell_type": "code",
   "execution_count": null,
   "metadata": {},
   "outputs": [],
   "source": [
    "# df_listings = clean_column_names(df_listings)\n",
    "# df_reviews = clean_column_names(df_reviews)\n",
    "# df_calendar = clean_column_names(df_calendar)"
   ]
  },
  {
   "cell_type": "code",
   "execution_count": null,
   "metadata": {},
   "outputs": [],
   "source": [
    "def clean_data_specific(df):\n",
    "    for col in df.columns:\n",
    "        if df[col].dtype == 'object':  # se a coluna é do tipo texto\n",
    "            df[col] = df[col].apply(clean_text)\n",
    "            # Se a coluna deve ser numérica, converta-a\n",
    "            if col in ['host_response_rate', 'host_acceptance_rate', 'price']:\n",
    "                df[col] = df[col].str.replace('%', '').str.replace('$', '').astype(float)\n",
    "        elif df[col].dtype in ['int64', 'float64']:  # se a coluna é numérica\n",
    "            df[col] = df[col].fillna(0)  # preenche valores ausentes com 0\n",
    "        elif df[col].dtype == 'datetime64':  # se a coluna é uma data/hora\n",
    "            df[col] = pd.to_datetime(df[col], errors='coerce')  # converte para o tipo de data correto\n",
    "    return df"
   ]
  },
  {
   "cell_type": "code",
   "execution_count": null,
   "metadata": {},
   "outputs": [],
   "source": [
    "# Exemplo de uso:\n",
    "# df = clean_data_specific(df)"
   ]
  }
 ],
 "metadata": {
  "language_info": {
   "name": "python"
  }
 },
 "nbformat": 4,
 "nbformat_minor": 2
}
