{
 "cells": [
  {
   "cell_type": "code",
   "execution_count": 9,
   "metadata": {},
   "outputs": [],
   "source": [
    "import pandas as pd\n",
    "import psycopg2\n",
    "import numpy as np\n",
    "import re\n",
    "from sqlalchemy import create_engine, text as sql_text\n",
    "import datetime\n",
    "from ydata_profiling import ProfileReport"
   ]
  },
  {
   "cell_type": "markdown",
   "metadata": {},
   "source": [
    "# Projeto Analytics Engineering - Inside Airbnb"
   ]
  },
  {
   "cell_type": "markdown",
   "metadata": {},
   "source": [
    "## PostgreSQL - Exportação dos dados \"raw\""
   ]
  },
  {
   "cell_type": "markdown",
   "metadata": {},
   "source": [
    "Conjunto de dados:  \"Inside Airbnb\"\n",
    "\n",
    "Passo a Passo:\n",
    "1. Vá no link https://insideairbnb.com/get-the-data\n",
    "2. Procure por \"Rio de Janeiro\"\n",
    "3. Baixe os 3 .csv: \"Listing\", \"Reviews\" e Calendar\" \n",
    "\n",
    "0bs: Caso queira pular estes passos, basta utilizar os .csvs que já estão nessa pasta: https://drive.google.com/drive/folders/1pwCpVsMu5si7BX1lzWX3tipP3fAPuoX3?usp=drive_link"
   ]
  },
  {
   "cell_type": "markdown",
   "metadata": {},
   "source": [
    "4. Crie uma pasta dentro desse repositorio como 'raw_data' e adicione os 3 .csv"
   ]
  },
  {
   "cell_type": "markdown",
   "metadata": {},
   "source": [
    "### Conexão com PostgreSQL"
   ]
  },
  {
   "cell_type": "code",
   "execution_count": 47,
   "metadata": {},
   "outputs": [],
   "source": [
    "# James:\n",
    "# dbname='airbnb_project'\n",
    "# user='postgres'\n",
    "# host='localhost'\n",
    "# password='admin'\n",
    "# port='5432'\n",
    "\n",
    "# Marcela: \n",
    "dbname='airbnb_project'\n",
    "user='postgres'\n",
    "host='localhost'\n",
    "password='0125698741'\n",
    "port='5433'"
   ]
  },
  {
   "cell_type": "code",
   "execution_count": 48,
   "metadata": {},
   "outputs": [],
   "source": [
    "conn = psycopg2.connect(dbname=dbname, user=user, host=host, password=password, port=port)\n",
    "db_params = {\n",
    "    'dbname': dbname,\n",
    "    'user': user,\n",
    "    'host': host,\n",
    "    'password': password,\n",
    "    'port': port\n",
    "}\n",
    "db_url = f'postgresql+psycopg2://{db_params[\"user\"]}:{db_params[\"password\"]}@{db_params[\"host\"]}:{db_params[\"port\"]}/{db_params[\"dbname\"]}'\n",
    "engine = create_engine(db_url)"
   ]
  },
  {
   "cell_type": "markdown",
   "metadata": {},
   "source": [
    "### Criação das bases 'raw's\n",
    "- Crie um banco de dados PostgreSQL para armazenar os dados brutos das 3 tabelas (\"Listing\", \"Reviews\" e Calendar\") "
   ]
  },
  {
   "cell_type": "code",
   "execution_count": 20,
   "metadata": {},
   "outputs": [],
   "source": [
    "#path = 'dbt/analytics_eng_airbnb/raw_data/'\n",
    "path = 'raw_data/'\n",
    "df_listings_raw = pd.read_csv(path + \"listings.csv\")\n",
    "df_reviews_raw = pd.read_csv(path + \"reviews.csv\")\n",
    "df_calendar_raw = pd.read_csv(path + \"calendar.csv\")"
   ]
  },
  {
   "cell_type": "code",
   "execution_count": 21,
   "metadata": {},
   "outputs": [
    {
     "data": {
      "text/plain": [
       "595"
      ]
     },
     "execution_count": 21,
     "metadata": {},
     "output_type": "execute_result"
    }
   ],
   "source": [
    "df_listings_raw.to_sql('listings_raw', engine, if_exists='replace', index=False)\n",
    "df_reviews_raw.to_sql('reviews_raw', engine, if_exists='replace', index=False)\n",
    "df_calendar_raw.to_sql('calendar_raw', engine, if_exists='replace', index=False)"
   ]
  },
  {
   "cell_type": "code",
   "execution_count": 17,
   "metadata": {},
   "outputs": [],
   "source": [
    "def load_data_from_table(table_name):\n",
    "    query = f\"SELECT * FROM {table_name};\"\n",
    "    df = pd.read_sql_query(query, conn)\n",
    "    return df"
   ]
  },
  {
   "cell_type": "code",
   "execution_count": 7,
   "metadata": {},
   "outputs": [
    {
     "data": {
      "application/vnd.jupyter.widget-view+json": {
       "model_id": "9e84c050e11f4302bf4dc81b1f7d4727",
       "version_major": 2,
       "version_minor": 0
      },
      "text/plain": [
       "Summarize dataset:   0%|          | 0/5 [00:00<?, ?it/s]"
      ]
     },
     "metadata": {},
     "output_type": "display_data"
    },
    {
     "data": {
      "application/vnd.jupyter.widget-view+json": {
       "model_id": "17fd32d254114f97bda74d8e03a08d92",
       "version_major": 2,
       "version_minor": 0
      },
      "text/plain": [
       "Generate report structure:   0%|          | 0/1 [00:00<?, ?it/s]"
      ]
     },
     "metadata": {},
     "output_type": "display_data"
    },
    {
     "data": {
      "application/vnd.jupyter.widget-view+json": {
       "model_id": "c3b6b3f581b14ec0bd5ca0c279fa1fe4",
       "version_major": 2,
       "version_minor": 0
      },
      "text/plain": [
       "Render HTML:   0%|          | 0/1 [00:00<?, ?it/s]"
      ]
     },
     "metadata": {},
     "output_type": "display_data"
    },
    {
     "data": {
      "application/vnd.jupyter.widget-view+json": {
       "model_id": "b26149169eba4ebf8fbd24a7504c6602",
       "version_major": 2,
       "version_minor": 0
      },
      "text/plain": [
       "Export report to file:   0%|          | 0/1 [00:00<?, ?it/s]"
      ]
     },
     "metadata": {},
     "output_type": "display_data"
    },
    {
     "data": {
      "application/vnd.jupyter.widget-view+json": {
       "model_id": "efd90cbebcb2450cbb8453bfb75b4a97",
       "version_major": 2,
       "version_minor": 0
      },
      "text/plain": [
       "Summarize dataset:   0%|          | 0/5 [00:00<?, ?it/s]"
      ]
     },
     "metadata": {},
     "output_type": "display_data"
    },
    {
     "data": {
      "application/vnd.jupyter.widget-view+json": {
       "model_id": "b5e96b11998c4d5d8243c52a3f6ba35d",
       "version_major": 2,
       "version_minor": 0
      },
      "text/plain": [
       "Generate report structure:   0%|          | 0/1 [00:00<?, ?it/s]"
      ]
     },
     "metadata": {},
     "output_type": "display_data"
    },
    {
     "data": {
      "application/vnd.jupyter.widget-view+json": {
       "model_id": "07d46c8f230e495f8d6d9cb78cb81483",
       "version_major": 2,
       "version_minor": 0
      },
      "text/plain": [
       "Render HTML:   0%|          | 0/1 [00:00<?, ?it/s]"
      ]
     },
     "metadata": {},
     "output_type": "display_data"
    },
    {
     "data": {
      "application/vnd.jupyter.widget-view+json": {
       "model_id": "3713a21e70004093b771ecbb63689ca2",
       "version_major": 2,
       "version_minor": 0
      },
      "text/plain": [
       "Export report to file:   0%|          | 0/1 [00:00<?, ?it/s]"
      ]
     },
     "metadata": {},
     "output_type": "display_data"
    },
    {
     "data": {
      "application/vnd.jupyter.widget-view+json": {
       "model_id": "256a071850f64c9cabdf0a9306ce1542",
       "version_major": 2,
       "version_minor": 0
      },
      "text/plain": [
       "Summarize dataset:   0%|          | 0/5 [00:00<?, ?it/s]"
      ]
     },
     "metadata": {},
     "output_type": "display_data"
    },
    {
     "data": {
      "application/vnd.jupyter.widget-view+json": {
       "model_id": "d09b53f00d344362b452fd923bee56ec",
       "version_major": 2,
       "version_minor": 0
      },
      "text/plain": [
       "Generate report structure:   0%|          | 0/1 [00:00<?, ?it/s]"
      ]
     },
     "metadata": {},
     "output_type": "display_data"
    },
    {
     "data": {
      "application/vnd.jupyter.widget-view+json": {
       "model_id": "9908bbb5aaca4113be6c06d336a9d0ec",
       "version_major": 2,
       "version_minor": 0
      },
      "text/plain": [
       "Render HTML:   0%|          | 0/1 [00:00<?, ?it/s]"
      ]
     },
     "metadata": {},
     "output_type": "display_data"
    },
    {
     "data": {
      "application/vnd.jupyter.widget-view+json": {
       "model_id": "27cd98b00c724c898604a19d2ca5e38a",
       "version_major": 2,
       "version_minor": 0
      },
      "text/plain": [
       "Export report to file:   0%|          | 0/1 [00:00<?, ?it/s]"
      ]
     },
     "metadata": {},
     "output_type": "display_data"
    }
   ],
   "source": [
    "profile = ProfileReport(df_listings_raw, title=\"Listings Report\")\n",
    "profile.to_file(\"resultados_listings.html\")\n",
    "profile = ProfileReport(df_reviews_raw, title=\"Reviews Report\", minimal=True)\n",
    "profile.to_file(\"resultados_reviews.html\")\n",
    "profile = ProfileReport(df_calendar_raw, title=\"Calendar Report\")\n",
    "profile.to_file(\"resultados_calendar.html\")"
   ]
  },
  {
   "cell_type": "markdown",
   "metadata": {},
   "source": [
    "## DBT - Inicialização"
   ]
  },
  {
   "cell_type": "markdown",
   "metadata": {},
   "source": [
    "Passo a Passo:\n",
    "1) Instale o DBT\n",
    "- python -m pip install dbt-postgres\n",
    "- pip install dbt\n"
   ]
  },
  {
   "cell_type": "markdown",
   "metadata": {},
   "source": [
    "2) Vá até sua pasta \"dbt\" e rode o comando:\n",
    "3) dbt init analytics_eng_airbnb \n",
    "\n",
    "OBS: você pode pular os passos 2 e 3 utilizando a pasta \"dbt\" dentro do arquivo do Github\n"
   ]
  },
  {
   "cell_type": "markdown",
   "metadata": {},
   "source": [
    "Altere as credenciais em \"profiles.yml\""
   ]
  },
  {
   "cell_type": "markdown",
   "metadata": {},
   "source": [
    "# Camadas"
   ]
  },
  {
   "cell_type": "markdown",
   "metadata": {},
   "source": [
    "## Bronze"
   ]
  },
  {
   "cell_type": "markdown",
   "metadata": {},
   "source": [
    "Verifique os arquivos criados na pasta dbt/analytics_eng_airbnb/models/bronze\n",
    "- source.yml com os sources de \"listing_raw\", \"reviews_raw\", \"calendar_raw\""
   ]
  },
  {
   "cell_type": "markdown",
   "metadata": {},
   "source": [
    "- models.yml com informações e verificações sobre as novas tabelas que serão criadas: \"listing_bronze\", \"reviews_bronze\", \"calendar_bronze\". Nesse arquivo, executamos:\n",
    "    - Verificamos se ID em \"listings\" é unique e not null\n",
    "    - Adicionamos referencias de \"foreign key\" para listings_id"
   ]
  },
  {
   "cell_type": "markdown",
   "metadata": {},
   "source": [
    "- arquivos .sql para cada uma das 3 tabelas"
   ]
  },
  {
   "cell_type": "markdown",
   "metadata": {},
   "source": [
    "Para executar as regras criadas e importar as tabelas _bronze para o seu PostgreSQL, entre na pasta dbt/analytics_eng_airbnb e rode o comando:\n",
    "\n",
    "- dbt run --models bronze"
   ]
  },
  {
   "cell_type": "markdown",
   "metadata": {},
   "source": [
    "## Silver"
   ]
  },
  {
   "cell_type": "markdown",
   "metadata": {},
   "source": [
    "Verifique os arquivos criados na pasta dbt/analytics_eng_airbnb/models/silver\n",
    "- source.yml com os sources de \"listing_bronze\", \"reviews_bronze\", \"calendar_bronze\""
   ]
  },
  {
   "cell_type": "markdown",
   "metadata": {},
   "source": [
    "- models.yml com informações e verificações sobre as novas tabelas que serão criadas: \"listing_silver\", \"reviews_silver\", \"calendar_silver\". Nesse arquivo, executamos:\n",
    "    - X Y Z (Aqui, fale sobre qualidade de dados: integridade, precisão e consistencia para os dados da camada). Fale também quais métricas foram selecionadas para continuar em cada lista e o porque. E também sobre os testes feitos (garantindo que a camada atenda as regras de negocio e requisitos de qualidade). Utilize as colunas selecionadas por Andre, explique porque escolheram elas e adicione os testes \">0\" (e outros que tem lá)."
   ]
  },
  {
   "cell_type": "markdown",
   "metadata": {},
   "source": [
    "- arquivos .sql para cada uma das 3 tabelas. Nesses arquivos, executamos:\n",
    "    - XYZ adicionar "
   ]
  },
  {
   "cell_type": "markdown",
   "metadata": {},
   "source": [
    "Para executar as regras criadas e importar as tabelas _silver para o seu PostgreSQL, entre na pasta dbt/analytics_eng_airbnb e rode o comando:\n",
    "\n",
    "- dbt run --models silver"
   ]
  },
  {
   "cell_type": "markdown",
   "metadata": {},
   "source": [
    "## Gold"
   ]
  },
  {
   "cell_type": "markdown",
   "metadata": {},
   "source": [
    "Verifique os arquivos criados na pasta dbt/analytics_eng_airbnb/models/gold\n",
    "- source.yml com os sources de \"listing_silver\", \"reviews_silver\", \"calendar_silver\""
   ]
  },
  {
   "cell_type": "markdown",
   "metadata": {},
   "source": [
    "- models.yml com informações e verificações sobre as novas tabelas que serão criadas:  \"listing_gold\", \"reviews_gold\", \"calendar_gold\". Nesse arquivo, executamos:\n",
    "    - X Y Z (Aqui, fale sobre agregações aplicadas - quais fora e porquê. Nessa camada testes não precisam ser executados (acho))."
   ]
  },
  {
   "cell_type": "markdown",
   "metadata": {},
   "source": [
    "- arquivos .sql para cada uma das 3 tabelas. Nesses arquivos, executamos:\n",
    "    - XYZ adicionar "
   ]
  },
  {
   "cell_type": "markdown",
   "metadata": {},
   "source": [
    "Para executar as regras criadas e importar as tabelas _gold para o seu PostgreSQL, entre na pasta dbt/analytics_eng_airbnb e rode o comando:\n",
    "\n",
    "- dbt run --models gold"
   ]
  }
 ],
 "metadata": {
  "kernelspec": {
   "display_name": "Python 3",
   "language": "python",
   "name": "python3"
  },
  "language_info": {
   "codemirror_mode": {
    "name": "ipython",
    "version": 3
   },
   "file_extension": ".py",
   "mimetype": "text/x-python",
   "name": "python",
   "nbconvert_exporter": "python",
   "pygments_lexer": "ipython3",
   "version": "3.11.5"
  }
 },
 "nbformat": 4,
 "nbformat_minor": 2
}
