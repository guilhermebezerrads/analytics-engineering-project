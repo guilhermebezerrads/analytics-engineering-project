{
 "cells": [
  {
   "cell_type": "markdown",
   "metadata": {
    "application/vnd.databricks.v1+cell": {
     "cellMetadata": {
      "byteLimit": 2048000,
      "rowLimit": 10000
     },
     "inputWidgets": {},
     "nuid": "09b8b956-dc92-4cb6-a366-bb534a15736f",
     "showTitle": false,
     "title": ""
    }
   },
   "source": [
    "## Módulo: Analytics Engineering\n",
    "    \n",
    "## Projeto: Engenharia de Dados e Garantia de Qualidade no Conjunto de Dados do Airbnb no Rio de Janeiro."
   ]
  },
  {
   "cell_type": "markdown",
   "metadata": {
    "application/vnd.databricks.v1+cell": {
     "cellMetadata": {},
     "inputWidgets": {},
     "nuid": "ff8c8c64-7811-4deb-be3b-7273774ba0ec",
     "showTitle": false,
     "title": ""
    }
   },
   "source": [
    "#### Introdução à Base de Dados do Airbnb\n",
    "\n",
    "O conjunto de dados \"Inside Airbnb\", disponível no website \"http://insideairbnb.com/\", é uma valiosa fonte de informações sobre listagens de hospedagem, avaliações de hóspedes e disponibilidade de calendário em várias cidades ao redor do mundo, incluindo o Rio de Janeiro. Antes de prosseguirmos com a engenharia de dados, é importante entender os principais componentes deste conjunto de dados:\n",
    "\n",
    "1. **Listing (Listagem):** Este conjunto de dados contém informações detalhadas sobre as propriedades listadas no Airbnb. Cada registro representa uma listagem individual e inclui informações como o tipo de propriedade, preço, localização, número de quartos, comodidades oferecidas e muito mais.\n",
    "\n",
    "2. **Reviews (Avaliações):** O conjunto de dados de avaliações contém informações sobre as avaliações feitas por hóspedes que ficaram nas propriedades listadas. Ele inclui dados como a data da avaliação, o identificador da propriedade, os comentários escritos pelos hóspedes, e outras informações. \n",
    "\n",
    "3. **Calendar (Calendário):** Este conjunto de dados contém informações sobre a disponibilidade das propriedades ao longo do tempo. Ele lista as datas em que as propriedades estão disponíveis para reserva, bem como os preços para cada data.\n",
    "\n",
    "O dicionário dos dados também está disponível no website: \"http://insideairbnb.com/\".\n",
    "\n",
    "#### Passos do Projeto\n",
    "\n",
    "1. **Aquisição de Dados e Armazenamento de Dados em PostgreSQL - Camada Bronze**\n",
    "   - Baixe o conjunto de dados \"Inside Airbnb\" do Rio de Janeiro da fonte oficial (http://insideairbnb.com/) e promova uma estruturação simples nos dados.\n",
    "   - Crie um banco de dados PostgreSQL para armazenar os dados brutos das 3 tabelas (\"Listing\", \"Reviews\" e Calendar\") na camada \"bronze\".\n",
    "\n",
    "<br>\n",
    "\n",
    "2. **Data Clean - Camada Silver:**\n",
    "   - Identifique e lide com valores ausentes, duplicatas e outliers nos dados brutos da camada \"bronze\".\n",
    "   - Padronize e limpe os nomes das colunas, convertendo-os em um formato consistente.\n",
    "   - Realize uma limpeza textual em campos, como descrições de propriedades, removendo caracteres especiais e erros de digitação.\n",
    "\n",
    "<br>\n",
    "\n",
    "3. **Data Quality - Camada Silver:**\n",
    "   - Defina métricas de qualidade de dados, como integridade, precisão e consistência para os dados da camada \"bronze\".\n",
    "   - Implemente verificações para garantir que os dados da camada \"silver\" estejam em conformidade com essas métricas.\n",
    "   - Estabeleça um sistema de monitoramento contínuo da qualidade dos dados da camada \"silver\".\n",
    "\n",
    "<br>\n",
    "\n",
    "4. **Testes de Qualidade - Camada Silver:**\n",
    "   - Utilize a biblioteca Great Expectations para criar testes de qualidade automatizados que verifiquem as expectativas definidas para os dados da camada \"silver\".\n",
    "   - Desenvolva testes que assegurem que os dados da camada \"silver\" atendam às regras de negócios e aos requisitos de qualidade.\n",
    "\n",
    "<br>\n",
    "\n",
    "5. **Transformação de Dados com dbt - Camada Silver:**\n",
    "   - Utilize a ferramenta dbt para criar a camada \"silver\" de dados, realizando transformações e preparando os dados da camada em questão.\n",
    "   - Mantenha um controle de versão dos modelos dbt relacionados à camada \"silver\" e automatize a execução das transformações.\n",
    "\n",
    "<br>\n",
    "\n",
    "6. **Armazenamento de Dados em PostgreSQL - Camada Silver:**\n",
    "   - Armazene os dados da camada \"silver\" no mesmo banco de dados PostgreSQL.\n",
    "   - Estabeleça conexões entre o dbt e o PostgreSQL para carregar os dados transformados da camada \"silver\" no banco.\n",
    "\n",
    "<br>\n",
    "\n",
    "7. **Validação de Expectativas com Great Expectations - Camada Silver:**\n",
    "   - Implemente validações adicionais usando Great Expectations nas camadas de dados da camada \"silver\".\n",
    "   - Monitore a qualidade dos dados da camada \"silver\" após cada transformação e ajuste os testes de acordo.\n",
    "\n",
    "<br>\n",
    "\n",
    "8. **Transformação de Dados com dbt - Camada Gold:**\n",
    "   - Utilize o dbt para criar a camada \"gold\" de dados, aplicando agregações especializadas, como médias de preços por propriedade, por período, e outras agregações especializadas.\n",
    "   - Mantenha um controle de versão dos modelos dbt relacionados à camada \"gold\" e automatize a execução das transformações.\n",
    "   - Armazene os dados da camada \"gold\" no mesmo banco de dados PostgreSQL, mantendo a estrutura de dados otimizada para consultas analíticas.\n",
    "\n",
    "<br>\n",
    "\n",
    " 9. **Apresentação e Discussão:**\n",
    "    - Apresente os resultados do projeto para a turma, enfatizando os aspectos de engenharia de dados, qualidade de dados e uso de ferramentas como dbt, Great Expectations e o armazenamento em um banco de dados PostgreSQL nas camadas \"bronze\", \"silver\" e \"gold\".\n"
   ]
  }
 ],
 "metadata": {
  "application/vnd.databricks.v1+notebook": {
   "dashboards": [],
   "language": "python",
   "notebookMetadata": {
    "pythonIndentUnit": 4
   },
   "notebookName": "Aula_6_Exercicio_1_Parte_1_Carga_em_Lotes_sem_Duplicadas",
   "widgets": {}
  },
  "kernelspec": {
   "display_name": "Python 3 (ipykernel)",
   "language": "python",
   "name": "python3"
  },
  "language_info": {
   "codemirror_mode": {
    "name": "ipython",
    "version": 3
   },
   "file_extension": ".py",
   "mimetype": "text/x-python",
   "name": "python",
   "nbconvert_exporter": "python",
   "pygments_lexer": "ipython3",
   "version": "3.9.13"
  }
 },
 "nbformat": 4,
 "nbformat_minor": 1
}
